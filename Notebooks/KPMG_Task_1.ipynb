{
 "cells": [
  {
   "cell_type": "markdown",
   "id": "76e844ae-7a27-4c7d-92e2-e7e0407efa55",
   "metadata": {},
   "source": [
    "# **KPMG Data Analytics Virtual Internship**"
   ]
  },
  {
   "cell_type": "markdown",
   "id": "dfa9e3db-cb8c-4f26-9cd4-fdd5357fb2c9",
   "metadata": {},
   "source": [
    "## Task 1\n",
    "### Data Quality Assessment\n",
    "\n",
    "    Assessment of data quality and completeness in preparation for analysis."
   ]
  },
  {
   "cell_type": "markdown",
   "id": "e90c838c-6657-4c36-8610-c00b5065cd44",
   "metadata": {},
   "source": [
    "The client provided KPMG with 3 datasets:\n",
    "\n",
    "* Customer Demographic \n",
    "* Customer Addresses\n",
    "* Transactions data in the past 3 months\n",
    "\n",
    "We decide to start the preliminary data exploration and identify ways to improve the quality of Sprocket Central Pty Ltd’s data."
   ]
  },
  {
   "cell_type": "markdown",
   "id": "6389c176-dab4-4830-b1ec-e2b3c431361a",
   "metadata": {},
   "source": [
    "# Data Exploration"
   ]
  },
  {
   "cell_type": "markdown",
   "id": "c972b73c-39f3-4f8e-8b43-2b267291b75c",
   "metadata": {},
   "source": [
    "## Import Library"
   ]
  },
  {
   "cell_type": "code",
   "execution_count": 1,
   "id": "64aba9d7-08ce-485e-829f-9b4ce9e29584",
   "metadata": {},
   "outputs": [],
   "source": [
    "# pip install openpyxl"
   ]
  },
  {
   "cell_type": "code",
   "execution_count": 2,
   "id": "3e8589d2-aa0c-4fa5-a1c9-f9ba6e575a77",
   "metadata": {},
   "outputs": [],
   "source": [
    "# Data manipulation\n",
    "import pandas as pd"
   ]
  },
  {
   "cell_type": "code",
   "execution_count": 3,
   "id": "8baf6a54-4883-4af9-90ff-a1d03ec53989",
   "metadata": {},
   "outputs": [],
   "source": [
    "# pd.set_option('display.max_columns', None)\n",
    "# pd.set_option('display.max_rows', None)"
   ]
  },
  {
   "cell_type": "markdown",
   "id": "dbffc1ed-41d5-4476-906f-2501cc1e4d27",
   "metadata": {},
   "source": [
    "## Read Dataset"
   ]
  },
  {
   "cell_type": "code",
   "execution_count": 4,
   "id": "dc872d16-d55e-4745-ab88-18c54a6c75f5",
   "metadata": {},
   "outputs": [],
   "source": [
    "data = pd.ExcelFile('KPMG_Data_Analytics_Virtual_Internship_Dataset.xlsx')"
   ]
  },
  {
   "cell_type": "code",
   "execution_count": 5,
   "id": "24b0fc14-5067-4cae-a6d8-d3f753107ece",
   "metadata": {},
   "outputs": [],
   "source": [
    "# Read each data separately\n",
    "Transactions = pd.read_excel(data, 'Transactions')\n",
    "NewCustomerList = pd.read_excel(data, 'NewCustomerList')\n",
    "CustomerDemographic = pd.read_excel(data, 'CustomerDemographic')\n",
    "CustomerAddress = pd.read_excel(data, 'CustomerAddress')"
   ]
  },
  {
   "cell_type": "markdown",
   "id": "afe8be2f-9fe8-4336-829c-871b396f772d",
   "metadata": {
    "tags": []
   },
   "source": [
    "## 1. Explore Transactions Data"
   ]
  },
  {
   "cell_type": "code",
   "execution_count": 6,
   "id": "ec66f9c6-c2ee-4c95-956e-84d76fda4ff6",
   "metadata": {},
   "outputs": [
    {
     "data": {
      "text/plain": [
       "(20000, 13)"
      ]
     },
     "execution_count": 6,
     "metadata": {},
     "output_type": "execute_result"
    }
   ],
   "source": [
    "# Dimensions of the DataFrame\n",
    "Transactions.shape"
   ]
  },
  {
   "cell_type": "code",
   "execution_count": 7,
   "id": "2992ab43-59f0-468c-9d26-43e1ee0af80c",
   "metadata": {},
   "outputs": [
    {
     "name": "stdout",
     "output_type": "stream",
     "text": [
      "Total rows: 20000\n",
      "Total cols: 13\n"
     ]
    }
   ],
   "source": [
    "print('Total rows: {}'.format(Transactions.shape[0]))\n",
    "print('Total cols: {}'.format(Transactions.shape[1]))"
   ]
  },
  {
   "cell_type": "code",
   "execution_count": 8,
   "id": "3b7192b8-adfb-44ca-9ee0-ce9dd4704067",
   "metadata": {},
   "outputs": [
    {
     "name": "stdout",
     "output_type": "stream",
     "text": [
      "<class 'pandas.core.frame.DataFrame'>\n",
      "RangeIndex: 20000 entries, 0 to 19999\n",
      "Data columns (total 13 columns):\n",
      " #   Column                   Non-Null Count  Dtype         \n",
      "---  ------                   --------------  -----         \n",
      " 0   transaction_id           20000 non-null  int64         \n",
      " 1   product_id               20000 non-null  int64         \n",
      " 2   customer_id              20000 non-null  int64         \n",
      " 3   transaction_date         20000 non-null  datetime64[ns]\n",
      " 4   online_order             19640 non-null  float64       \n",
      " 5   order_status             20000 non-null  object        \n",
      " 6   brand                    19803 non-null  object        \n",
      " 7   product_line             19803 non-null  object        \n",
      " 8   product_class            19803 non-null  object        \n",
      " 9   product_size             19803 non-null  object        \n",
      " 10  list_price               20000 non-null  float64       \n",
      " 11  standard_cost            19803 non-null  float64       \n",
      " 12  product_first_sold_date  19803 non-null  float64       \n",
      "dtypes: datetime64[ns](1), float64(4), int64(3), object(5)\n",
      "memory usage: 2.0+ MB\n"
     ]
    }
   ],
   "source": [
    "# Data types of the columns\n",
    "Transactions.info()"
   ]
  },
  {
   "cell_type": "code",
   "execution_count": 9,
   "id": "ac84dd63-0a27-4a89-89d3-8ee326baad8d",
   "metadata": {},
   "outputs": [
    {
     "data": {
      "text/html": [
       "<div>\n",
       "<style scoped>\n",
       "    .dataframe tbody tr th:only-of-type {\n",
       "        vertical-align: middle;\n",
       "    }\n",
       "\n",
       "    .dataframe tbody tr th {\n",
       "        vertical-align: top;\n",
       "    }\n",
       "\n",
       "    .dataframe thead th {\n",
       "        text-align: right;\n",
       "    }\n",
       "</style>\n",
       "<table border=\"1\" class=\"dataframe\">\n",
       "  <thead>\n",
       "    <tr style=\"text-align: right;\">\n",
       "      <th></th>\n",
       "      <th>transaction_id</th>\n",
       "      <th>product_id</th>\n",
       "      <th>customer_id</th>\n",
       "      <th>transaction_date</th>\n",
       "      <th>online_order</th>\n",
       "      <th>order_status</th>\n",
       "      <th>brand</th>\n",
       "      <th>product_line</th>\n",
       "      <th>product_class</th>\n",
       "      <th>product_size</th>\n",
       "      <th>list_price</th>\n",
       "      <th>standard_cost</th>\n",
       "      <th>product_first_sold_date</th>\n",
       "    </tr>\n",
       "  </thead>\n",
       "  <tbody>\n",
       "    <tr>\n",
       "      <th>7808</th>\n",
       "      <td>7809</td>\n",
       "      <td>80</td>\n",
       "      <td>2205</td>\n",
       "      <td>2017-09-21</td>\n",
       "      <td>0.0</td>\n",
       "      <td>Approved</td>\n",
       "      <td>OHM Cycles</td>\n",
       "      <td>Touring</td>\n",
       "      <td>low</td>\n",
       "      <td>medium</td>\n",
       "      <td>1073.07</td>\n",
       "      <td>933.84</td>\n",
       "      <td>35455.0</td>\n",
       "    </tr>\n",
       "    <tr>\n",
       "      <th>4702</th>\n",
       "      <td>4703</td>\n",
       "      <td>0</td>\n",
       "      <td>1944</td>\n",
       "      <td>2017-04-24</td>\n",
       "      <td>0.0</td>\n",
       "      <td>Approved</td>\n",
       "      <td>Trek Bicycles</td>\n",
       "      <td>Road</td>\n",
       "      <td>medium</td>\n",
       "      <td>medium</td>\n",
       "      <td>533.51</td>\n",
       "      <td>400.13</td>\n",
       "      <td>37823.0</td>\n",
       "    </tr>\n",
       "    <tr>\n",
       "      <th>8693</th>\n",
       "      <td>8694</td>\n",
       "      <td>46</td>\n",
       "      <td>3116</td>\n",
       "      <td>2017-10-04</td>\n",
       "      <td>NaN</td>\n",
       "      <td>Approved</td>\n",
       "      <td>Solex</td>\n",
       "      <td>Standard</td>\n",
       "      <td>low</td>\n",
       "      <td>medium</td>\n",
       "      <td>1289.85</td>\n",
       "      <td>74.51</td>\n",
       "      <td>39427.0</td>\n",
       "    </tr>\n",
       "    <tr>\n",
       "      <th>9085</th>\n",
       "      <td>9086</td>\n",
       "      <td>69</td>\n",
       "      <td>1356</td>\n",
       "      <td>2017-12-08</td>\n",
       "      <td>1.0</td>\n",
       "      <td>Approved</td>\n",
       "      <td>Norco Bicycles</td>\n",
       "      <td>Road</td>\n",
       "      <td>medium</td>\n",
       "      <td>large</td>\n",
       "      <td>1240.31</td>\n",
       "      <td>795.10</td>\n",
       "      <td>40553.0</td>\n",
       "    </tr>\n",
       "    <tr>\n",
       "      <th>16689</th>\n",
       "      <td>16690</td>\n",
       "      <td>78</td>\n",
       "      <td>1378</td>\n",
       "      <td>2017-04-26</td>\n",
       "      <td>1.0</td>\n",
       "      <td>Approved</td>\n",
       "      <td>Giant Bicycles</td>\n",
       "      <td>Standard</td>\n",
       "      <td>medium</td>\n",
       "      <td>large</td>\n",
       "      <td>1765.30</td>\n",
       "      <td>709.48</td>\n",
       "      <td>38193.0</td>\n",
       "    </tr>\n",
       "  </tbody>\n",
       "</table>\n",
       "</div>"
      ],
      "text/plain": [
       "       transaction_id  product_id  customer_id transaction_date  online_order   \n",
       "7808             7809          80         2205       2017-09-21           0.0  \\\n",
       "4702             4703           0         1944       2017-04-24           0.0   \n",
       "8693             8694          46         3116       2017-10-04           NaN   \n",
       "9085             9086          69         1356       2017-12-08           1.0   \n",
       "16689           16690          78         1378       2017-04-26           1.0   \n",
       "\n",
       "      order_status           brand product_line product_class product_size   \n",
       "7808      Approved      OHM Cycles      Touring           low       medium  \\\n",
       "4702      Approved   Trek Bicycles         Road        medium       medium   \n",
       "8693      Approved           Solex     Standard           low       medium   \n",
       "9085      Approved  Norco Bicycles         Road        medium        large   \n",
       "16689     Approved  Giant Bicycles     Standard        medium        large   \n",
       "\n",
       "       list_price  standard_cost  product_first_sold_date  \n",
       "7808      1073.07         933.84                  35455.0  \n",
       "4702       533.51         400.13                  37823.0  \n",
       "8693      1289.85          74.51                  39427.0  \n",
       "9085      1240.31         795.10                  40553.0  \n",
       "16689     1765.30         709.48                  38193.0  "
      ]
     },
     "execution_count": 9,
     "metadata": {},
     "output_type": "execute_result"
    }
   ],
   "source": [
    "# Display a few rows\n",
    "Transactions.sample(n=5, random_state=50)"
   ]
  },
  {
   "cell_type": "markdown",
   "id": "c3908c8a-f2a5-4d5c-8dd9-77e4b1b7aa8d",
   "metadata": {},
   "source": [
    "- The column `online_order` should have an integer data type.\n",
    "- The column `product_first_sold_date` should have a datetime data type."
   ]
  },
  {
   "cell_type": "code",
   "execution_count": 10,
   "id": "fdfeb0ab-e991-4c5a-94a7-3bccce45071b",
   "metadata": {},
   "outputs": [
    {
     "data": {
      "text/plain": [
       "transaction_id             False\n",
       "product_id                 False\n",
       "customer_id                False\n",
       "transaction_date           False\n",
       "online_order                True\n",
       "order_status               False\n",
       "brand                       True\n",
       "product_line                True\n",
       "product_class               True\n",
       "product_size                True\n",
       "list_price                 False\n",
       "standard_cost               True\n",
       "product_first_sold_date     True\n",
       "dtype: bool"
      ]
     },
     "execution_count": 10,
     "metadata": {},
     "output_type": "execute_result"
    }
   ],
   "source": [
    "# Detect missing value\n",
    "Transactions.isna().any()"
   ]
  },
  {
   "cell_type": "code",
   "execution_count": 11,
   "id": "4e97fca6-d71d-4928-b320-6d744cde5256",
   "metadata": {},
   "outputs": [
    {
     "data": {
      "text/plain": [
       "transaction_id               0\n",
       "product_id                   0\n",
       "customer_id                  0\n",
       "transaction_date             0\n",
       "online_order               360\n",
       "order_status                 0\n",
       "brand                      197\n",
       "product_line               197\n",
       "product_class              197\n",
       "product_size               197\n",
       "list_price                   0\n",
       "standard_cost              197\n",
       "product_first_sold_date    197\n",
       "dtype: int64"
      ]
     },
     "execution_count": 11,
     "metadata": {},
     "output_type": "execute_result"
    }
   ],
   "source": [
    "# Summarize missing value\n",
    "Transactions.isna().sum()"
   ]
  },
  {
   "cell_type": "code",
   "execution_count": 12,
   "id": "65efef6b-0237-4b4c-ad5a-bdfe28c4981f",
   "metadata": {},
   "outputs": [
    {
     "data": {
      "text/plain": [
       "1542"
      ]
     },
     "execution_count": 12,
     "metadata": {},
     "output_type": "execute_result"
    }
   ],
   "source": [
    "Transactions.isna().sum().sum()"
   ]
  },
  {
   "cell_type": "markdown",
   "id": "363e1aee-21fc-4651-ad40-e4848b247828",
   "metadata": {},
   "source": [
    "- There exist 7 columns with null or missing values that may either be dropped or handled.\n",
    "- Missing values in the `online_order` column can be filled with the mode value."
   ]
  },
  {
   "cell_type": "code",
   "execution_count": 13,
   "id": "b2a630aa-8f0f-4765-8702-472e0ac2ebc9",
   "metadata": {},
   "outputs": [
    {
     "data": {
      "text/plain": [
       "0"
      ]
     },
     "execution_count": 13,
     "metadata": {},
     "output_type": "execute_result"
    }
   ],
   "source": [
    "# Detect duplicated value\n",
    "Transactions.duplicated().sum()"
   ]
  },
  {
   "cell_type": "markdown",
   "id": "49695711-61ac-4370-97d7-7443280f7051",
   "metadata": {},
   "source": [
    "- There are no duplicate values, so the data is distinct/unique."
   ]
  },
  {
   "cell_type": "markdown",
   "id": "1ed1f29e-0483-405a-9596-254ad38adad2",
   "metadata": {},
   "source": [
    "### Explore the columns"
   ]
  },
  {
   "cell_type": "code",
   "execution_count": 14,
   "id": "bafd370a-0792-4307-80c3-0a34474be5b5",
   "metadata": {},
   "outputs": [
    {
     "data": {
      "text/plain": [
       "Index(['transaction_id', 'product_id', 'customer_id', 'transaction_date',\n",
       "       'online_order', 'order_status', 'brand', 'product_line',\n",
       "       'product_class', 'product_size', 'list_price', 'standard_cost',\n",
       "       'product_first_sold_date'],\n",
       "      dtype='object')"
      ]
     },
     "execution_count": 14,
     "metadata": {},
     "output_type": "execute_result"
    }
   ],
   "source": [
    "Transactions.columns"
   ]
  },
  {
   "cell_type": "code",
   "execution_count": 15,
   "id": "1b87e5b9-a8bd-44ff-b7d6-ecf5c9d2f5bb",
   "metadata": {},
   "outputs": [
    {
     "data": {
      "text/plain": [
       "transaction_id             20000\n",
       "product_id                   101\n",
       "customer_id                 3494\n",
       "transaction_date             364\n",
       "online_order                   2\n",
       "order_status                   2\n",
       "brand                          6\n",
       "product_line                   4\n",
       "product_class                  3\n",
       "product_size                   3\n",
       "list_price                   296\n",
       "standard_cost                103\n",
       "product_first_sold_date      100\n",
       "dtype: int64"
      ]
     },
     "execution_count": 15,
     "metadata": {},
     "output_type": "execute_result"
    }
   ],
   "source": [
    "# Number of unique classes\n",
    "Transactions.nunique()"
   ]
  },
  {
   "cell_type": "code",
   "execution_count": 16,
   "id": "3c08e629-0584-4961-9e02-df26b15a071a",
   "metadata": {},
   "outputs": [
    {
     "data": {
      "text/html": [
       "<div>\n",
       "<style scoped>\n",
       "    .dataframe tbody tr th:only-of-type {\n",
       "        vertical-align: middle;\n",
       "    }\n",
       "\n",
       "    .dataframe tbody tr th {\n",
       "        vertical-align: top;\n",
       "    }\n",
       "\n",
       "    .dataframe thead th {\n",
       "        text-align: right;\n",
       "    }\n",
       "</style>\n",
       "<table border=\"1\" class=\"dataframe\">\n",
       "  <thead>\n",
       "    <tr style=\"text-align: right;\">\n",
       "      <th></th>\n",
       "      <th>Feature Name</th>\n",
       "      <th>Unique Classes</th>\n",
       "    </tr>\n",
       "  </thead>\n",
       "  <tbody>\n",
       "    <tr>\n",
       "      <th>0</th>\n",
       "      <td>transaction_id</td>\n",
       "      <td>[1, 2, 3, 4, 5, 6, 7, 8, 9, 10, 11, 12, 13, 14...</td>\n",
       "    </tr>\n",
       "    <tr>\n",
       "      <th>1</th>\n",
       "      <td>product_id</td>\n",
       "      <td>[2, 3, 37, 88, 78, 25, 22, 15, 67, 12, 5, 61, ...</td>\n",
       "    </tr>\n",
       "    <tr>\n",
       "      <th>2</th>\n",
       "      <td>customer_id</td>\n",
       "      <td>[2950, 3120, 402, 3135, 787, 2339, 1542, 2459,...</td>\n",
       "    </tr>\n",
       "    <tr>\n",
       "      <th>3</th>\n",
       "      <td>transaction_date</td>\n",
       "      <td>[2017-02-25 00:00:00, 2017-05-21 00:00:00, 201...</td>\n",
       "    </tr>\n",
       "    <tr>\n",
       "      <th>4</th>\n",
       "      <td>online_order</td>\n",
       "      <td>[0.0, 1.0, nan]</td>\n",
       "    </tr>\n",
       "    <tr>\n",
       "      <th>5</th>\n",
       "      <td>order_status</td>\n",
       "      <td>[Approved, Cancelled]</td>\n",
       "    </tr>\n",
       "    <tr>\n",
       "      <th>6</th>\n",
       "      <td>brand</td>\n",
       "      <td>[Solex, Trek Bicycles, OHM Cycles, Norco Bicyc...</td>\n",
       "    </tr>\n",
       "    <tr>\n",
       "      <th>7</th>\n",
       "      <td>product_line</td>\n",
       "      <td>[Standard, Road, Mountain, Touring, nan]</td>\n",
       "    </tr>\n",
       "    <tr>\n",
       "      <th>8</th>\n",
       "      <td>product_class</td>\n",
       "      <td>[medium, low, high, nan]</td>\n",
       "    </tr>\n",
       "    <tr>\n",
       "      <th>9</th>\n",
       "      <td>product_size</td>\n",
       "      <td>[medium, large, small, nan]</td>\n",
       "    </tr>\n",
       "    <tr>\n",
       "      <th>10</th>\n",
       "      <td>list_price</td>\n",
       "      <td>[71.49, 2091.47, 1793.43, 1198.46, 1765.3, 153...</td>\n",
       "    </tr>\n",
       "    <tr>\n",
       "      <th>11</th>\n",
       "      <td>standard_cost</td>\n",
       "      <td>[53.62, 388.92, 248.82, 381.1, 709.48, 829.65,...</td>\n",
       "    </tr>\n",
       "    <tr>\n",
       "      <th>12</th>\n",
       "      <td>product_first_sold_date</td>\n",
       "      <td>[41245.0, 41701.0, 36361.0, 36145.0, 42226.0, ...</td>\n",
       "    </tr>\n",
       "  </tbody>\n",
       "</table>\n",
       "</div>"
      ],
      "text/plain": [
       "               Feature Name                                     Unique Classes\n",
       "0            transaction_id  [1, 2, 3, 4, 5, 6, 7, 8, 9, 10, 11, 12, 13, 14...\n",
       "1                product_id  [2, 3, 37, 88, 78, 25, 22, 15, 67, 12, 5, 61, ...\n",
       "2               customer_id  [2950, 3120, 402, 3135, 787, 2339, 1542, 2459,...\n",
       "3          transaction_date  [2017-02-25 00:00:00, 2017-05-21 00:00:00, 201...\n",
       "4              online_order                                    [0.0, 1.0, nan]\n",
       "5              order_status                              [Approved, Cancelled]\n",
       "6                     brand  [Solex, Trek Bicycles, OHM Cycles, Norco Bicyc...\n",
       "7              product_line           [Standard, Road, Mountain, Touring, nan]\n",
       "8             product_class                           [medium, low, high, nan]\n",
       "9              product_size                        [medium, large, small, nan]\n",
       "10               list_price  [71.49, 2091.47, 1793.43, 1198.46, 1765.3, 153...\n",
       "11            standard_cost  [53.62, 388.92, 248.82, 381.1, 709.48, 829.65,...\n",
       "12  product_first_sold_date  [41245.0, 41701.0, 36361.0, 36145.0, 42226.0, ..."
      ]
     },
     "execution_count": 16,
     "metadata": {},
     "output_type": "execute_result"
    }
   ],
   "source": [
    "values = {'Feature Name'   : [],\n",
    "          'Unique Classes' : []}\n",
    "\n",
    "for col in Transactions.columns:\n",
    "    values['Feature Name'].append(col)\n",
    "    values['Unique Classes'].append(Transactions[col].unique())\n",
    "\n",
    "values = pd.DataFrame(values)\n",
    "values"
   ]
  },
  {
   "cell_type": "code",
   "execution_count": 17,
   "id": "027a5fd8-ff15-4dfe-9e8a-d37ac1e85ed9",
   "metadata": {},
   "outputs": [
    {
     "data": {
      "text/plain": [
       "7808    1970-01-01 09:50:55\n",
       "4702    1970-01-01 10:30:23\n",
       "8693    1970-01-01 10:57:07\n",
       "9085    1970-01-01 11:15:53\n",
       "16689   1970-01-01 10:36:33\n",
       "Name: product_first_sold_date, dtype: datetime64[ns]"
      ]
     },
     "execution_count": 17,
     "metadata": {},
     "output_type": "execute_result"
    }
   ],
   "source": [
    "# Convert the column from float to datetime\n",
    "Transactions['product_first_sold_date'] = pd.to_datetime(Transactions['product_first_sold_date'], unit='s')\n",
    "Transactions['product_first_sold_date'].sample(n=5, random_state=50)"
   ]
  },
  {
   "cell_type": "markdown",
   "id": "c206fbcd-6dc0-40b7-b1dc-c72af3c27a5b",
   "metadata": {},
   "source": [
    "- The `product_first_sold_date` column has incorrect values as it shows everything happening the same day at different times."
   ]
  },
  {
   "cell_type": "markdown",
   "id": "0a7f5106-e633-423b-bab0-d7ef1216b46b",
   "metadata": {},
   "source": [
    "### Descriptive Statistics"
   ]
  },
  {
   "cell_type": "code",
   "execution_count": 18,
   "id": "02e91b1e-fbcb-4b83-8c54-2f0b10b3151b",
   "metadata": {
    "tags": []
   },
   "outputs": [],
   "source": [
    "# Define features\n",
    "num_tx = Transactions.select_dtypes(exclude = ['object'])\n",
    "cat_tx = Transactions.select_dtypes(include = ['object'])"
   ]
  },
  {
   "cell_type": "code",
   "execution_count": 19,
   "id": "f296b453-14cf-424e-84cb-50275f6bac01",
   "metadata": {},
   "outputs": [
    {
     "data": {
      "text/plain": [
       "8"
      ]
     },
     "execution_count": 19,
     "metadata": {},
     "output_type": "execute_result"
    }
   ],
   "source": [
    "num_tx.shape[1]"
   ]
  },
  {
   "cell_type": "code",
   "execution_count": 20,
   "id": "66dac3d7-f5f5-4bbd-b73f-0cc7d2eea19b",
   "metadata": {},
   "outputs": [
    {
     "data": {
      "text/plain": [
       "5"
      ]
     },
     "execution_count": 20,
     "metadata": {},
     "output_type": "execute_result"
    }
   ],
   "source": [
    "cat_tx.shape[1]"
   ]
  },
  {
   "cell_type": "markdown",
   "id": "389faabf-6cb6-46b4-8a8e-918c15a31980",
   "metadata": {},
   "source": [
    "#### 1. Numerical Features"
   ]
  },
  {
   "cell_type": "code",
   "execution_count": 21,
   "id": "9a466420-6c23-40df-9adb-920a901ab872",
   "metadata": {},
   "outputs": [
    {
     "data": {
      "text/html": [
       "<div>\n",
       "<style scoped>\n",
       "    .dataframe tbody tr th:only-of-type {\n",
       "        vertical-align: middle;\n",
       "    }\n",
       "\n",
       "    .dataframe tbody tr th {\n",
       "        vertical-align: top;\n",
       "    }\n",
       "\n",
       "    .dataframe thead th {\n",
       "        text-align: right;\n",
       "    }\n",
       "</style>\n",
       "<table border=\"1\" class=\"dataframe\">\n",
       "  <thead>\n",
       "    <tr style=\"text-align: right;\">\n",
       "      <th></th>\n",
       "      <th>count</th>\n",
       "      <th>mean</th>\n",
       "      <th>min</th>\n",
       "      <th>25%</th>\n",
       "      <th>50%</th>\n",
       "      <th>75%</th>\n",
       "      <th>max</th>\n",
       "      <th>std</th>\n",
       "    </tr>\n",
       "  </thead>\n",
       "  <tbody>\n",
       "    <tr>\n",
       "      <th>transaction_id</th>\n",
       "      <td>20000.0</td>\n",
       "      <td>10000.5</td>\n",
       "      <td>1.0</td>\n",
       "      <td>5000.75</td>\n",
       "      <td>10000.5</td>\n",
       "      <td>15000.25</td>\n",
       "      <td>20000.0</td>\n",
       "      <td>5773.647028</td>\n",
       "    </tr>\n",
       "    <tr>\n",
       "      <th>product_id</th>\n",
       "      <td>20000.0</td>\n",
       "      <td>45.36465</td>\n",
       "      <td>0.0</td>\n",
       "      <td>18.0</td>\n",
       "      <td>44.0</td>\n",
       "      <td>72.0</td>\n",
       "      <td>100.0</td>\n",
       "      <td>30.75359</td>\n",
       "    </tr>\n",
       "    <tr>\n",
       "      <th>customer_id</th>\n",
       "      <td>20000.0</td>\n",
       "      <td>1738.24605</td>\n",
       "      <td>1.0</td>\n",
       "      <td>857.75</td>\n",
       "      <td>1736.0</td>\n",
       "      <td>2613.0</td>\n",
       "      <td>5034.0</td>\n",
       "      <td>1011.951046</td>\n",
       "    </tr>\n",
       "    <tr>\n",
       "      <th>transaction_date</th>\n",
       "      <td>20000</td>\n",
       "      <td>2017-07-01 14:08:05.280000</td>\n",
       "      <td>2017-01-01 00:00:00</td>\n",
       "      <td>2017-04-01 00:00:00</td>\n",
       "      <td>2017-07-03 00:00:00</td>\n",
       "      <td>2017-10-02 00:00:00</td>\n",
       "      <td>2017-12-30 00:00:00</td>\n",
       "      <td>NaN</td>\n",
       "    </tr>\n",
       "    <tr>\n",
       "      <th>online_order</th>\n",
       "      <td>19640.0</td>\n",
       "      <td>0.500458</td>\n",
       "      <td>0.0</td>\n",
       "      <td>0.0</td>\n",
       "      <td>1.0</td>\n",
       "      <td>1.0</td>\n",
       "      <td>1.0</td>\n",
       "      <td>0.500013</td>\n",
       "    </tr>\n",
       "    <tr>\n",
       "      <th>list_price</th>\n",
       "      <td>20000.0</td>\n",
       "      <td>1107.829449</td>\n",
       "      <td>12.01</td>\n",
       "      <td>575.27</td>\n",
       "      <td>1163.89</td>\n",
       "      <td>1635.3</td>\n",
       "      <td>2091.47</td>\n",
       "      <td>582.825242</td>\n",
       "    </tr>\n",
       "    <tr>\n",
       "      <th>standard_cost</th>\n",
       "      <td>19803.0</td>\n",
       "      <td>556.046951</td>\n",
       "      <td>7.21</td>\n",
       "      <td>215.14</td>\n",
       "      <td>507.58</td>\n",
       "      <td>795.1</td>\n",
       "      <td>1759.85</td>\n",
       "      <td>405.95566</td>\n",
       "    </tr>\n",
       "    <tr>\n",
       "      <th>product_first_sold_date</th>\n",
       "      <td>19803</td>\n",
       "      <td>1970-01-01 10:36:39.776549007</td>\n",
       "      <td>1970-01-01 09:14:19</td>\n",
       "      <td>1970-01-01 09:54:27</td>\n",
       "      <td>1970-01-01 10:36:56</td>\n",
       "      <td>1970-01-01 11:17:52</td>\n",
       "      <td>1970-01-01 11:51:50</td>\n",
       "      <td>NaN</td>\n",
       "    </tr>\n",
       "  </tbody>\n",
       "</table>\n",
       "</div>"
      ],
      "text/plain": [
       "                           count                           mean   \n",
       "transaction_id           20000.0                        10000.5  \\\n",
       "product_id               20000.0                       45.36465   \n",
       "customer_id              20000.0                     1738.24605   \n",
       "transaction_date           20000     2017-07-01 14:08:05.280000   \n",
       "online_order             19640.0                       0.500458   \n",
       "list_price               20000.0                    1107.829449   \n",
       "standard_cost            19803.0                     556.046951   \n",
       "product_first_sold_date    19803  1970-01-01 10:36:39.776549007   \n",
       "\n",
       "                                         min                  25%   \n",
       "transaction_id                           1.0              5000.75  \\\n",
       "product_id                               0.0                 18.0   \n",
       "customer_id                              1.0               857.75   \n",
       "transaction_date         2017-01-01 00:00:00  2017-04-01 00:00:00   \n",
       "online_order                             0.0                  0.0   \n",
       "list_price                             12.01               575.27   \n",
       "standard_cost                           7.21               215.14   \n",
       "product_first_sold_date  1970-01-01 09:14:19  1970-01-01 09:54:27   \n",
       "\n",
       "                                         50%                  75%   \n",
       "transaction_id                       10000.5             15000.25  \\\n",
       "product_id                              44.0                 72.0   \n",
       "customer_id                           1736.0               2613.0   \n",
       "transaction_date         2017-07-03 00:00:00  2017-10-02 00:00:00   \n",
       "online_order                             1.0                  1.0   \n",
       "list_price                           1163.89               1635.3   \n",
       "standard_cost                         507.58                795.1   \n",
       "product_first_sold_date  1970-01-01 10:36:56  1970-01-01 11:17:52   \n",
       "\n",
       "                                         max          std  \n",
       "transaction_id                       20000.0  5773.647028  \n",
       "product_id                             100.0     30.75359  \n",
       "customer_id                           5034.0  1011.951046  \n",
       "transaction_date         2017-12-30 00:00:00          NaN  \n",
       "online_order                             1.0     0.500013  \n",
       "list_price                           2091.47   582.825242  \n",
       "standard_cost                        1759.85    405.95566  \n",
       "product_first_sold_date  1970-01-01 11:51:50          NaN  "
      ]
     },
     "execution_count": 21,
     "metadata": {},
     "output_type": "execute_result"
    }
   ],
   "source": [
    "# Summary statistics for numerical features\n",
    "num_tx.describe().T"
   ]
  },
  {
   "cell_type": "markdown",
   "id": "96be9662-0ce5-433b-bf40-e266194ccf24",
   "metadata": {},
   "source": [
    "#### 2. Categorical Features"
   ]
  },
  {
   "cell_type": "code",
   "execution_count": 22,
   "id": "f35752c1-f1f6-49ba-ba2c-9203e6bbac0d",
   "metadata": {},
   "outputs": [
    {
     "data": {
      "text/html": [
       "<div>\n",
       "<style scoped>\n",
       "    .dataframe tbody tr th:only-of-type {\n",
       "        vertical-align: middle;\n",
       "    }\n",
       "\n",
       "    .dataframe tbody tr th {\n",
       "        vertical-align: top;\n",
       "    }\n",
       "\n",
       "    .dataframe thead th {\n",
       "        text-align: right;\n",
       "    }\n",
       "</style>\n",
       "<table border=\"1\" class=\"dataframe\">\n",
       "  <thead>\n",
       "    <tr style=\"text-align: right;\">\n",
       "      <th></th>\n",
       "      <th>count</th>\n",
       "      <th>unique</th>\n",
       "      <th>top</th>\n",
       "      <th>freq</th>\n",
       "    </tr>\n",
       "  </thead>\n",
       "  <tbody>\n",
       "    <tr>\n",
       "      <th>order_status</th>\n",
       "      <td>20000</td>\n",
       "      <td>2</td>\n",
       "      <td>Approved</td>\n",
       "      <td>19821</td>\n",
       "    </tr>\n",
       "    <tr>\n",
       "      <th>brand</th>\n",
       "      <td>19803</td>\n",
       "      <td>6</td>\n",
       "      <td>Solex</td>\n",
       "      <td>4253</td>\n",
       "    </tr>\n",
       "    <tr>\n",
       "      <th>product_line</th>\n",
       "      <td>19803</td>\n",
       "      <td>4</td>\n",
       "      <td>Standard</td>\n",
       "      <td>14176</td>\n",
       "    </tr>\n",
       "    <tr>\n",
       "      <th>product_class</th>\n",
       "      <td>19803</td>\n",
       "      <td>3</td>\n",
       "      <td>medium</td>\n",
       "      <td>13826</td>\n",
       "    </tr>\n",
       "    <tr>\n",
       "      <th>product_size</th>\n",
       "      <td>19803</td>\n",
       "      <td>3</td>\n",
       "      <td>medium</td>\n",
       "      <td>12990</td>\n",
       "    </tr>\n",
       "  </tbody>\n",
       "</table>\n",
       "</div>"
      ],
      "text/plain": [
       "               count unique       top   freq\n",
       "order_status   20000      2  Approved  19821\n",
       "brand          19803      6     Solex   4253\n",
       "product_line   19803      4  Standard  14176\n",
       "product_class  19803      3    medium  13826\n",
       "product_size   19803      3    medium  12990"
      ]
     },
     "execution_count": 22,
     "metadata": {},
     "output_type": "execute_result"
    }
   ],
   "source": [
    "# Summary statistics for categorical features\n",
    "cat_tx.describe().T"
   ]
  },
  {
   "cell_type": "markdown",
   "id": "aa8ddccb-866b-4af4-bece-fd63f031b4b1",
   "metadata": {
    "tags": []
   },
   "source": [
    "## 2. Explore NewCustomerList Data"
   ]
  },
  {
   "cell_type": "code",
   "execution_count": 23,
   "id": "a9c4ede6-508e-4adb-b794-f4ecb6995d7a",
   "metadata": {},
   "outputs": [
    {
     "data": {
      "text/plain": [
       "(1000, 23)"
      ]
     },
     "execution_count": 23,
     "metadata": {},
     "output_type": "execute_result"
    }
   ],
   "source": [
    "# Dimensions of the DataFrame\n",
    "NewCustomerList.shape"
   ]
  },
  {
   "cell_type": "code",
   "execution_count": 24,
   "id": "e338150c-0cb4-48d9-904b-6ca85385d1a6",
   "metadata": {},
   "outputs": [
    {
     "name": "stdout",
     "output_type": "stream",
     "text": [
      "Total rows: 1000\n",
      "Total cols: 23\n"
     ]
    }
   ],
   "source": [
    "print('Total rows: {}'.format(NewCustomerList.shape[0]))\n",
    "print('Total cols: {}'.format(NewCustomerList.shape[1]))"
   ]
  },
  {
   "cell_type": "code",
   "execution_count": 25,
   "id": "cd480487-d90c-4e45-b11a-b6f86b7c9c0f",
   "metadata": {},
   "outputs": [
    {
     "name": "stdout",
     "output_type": "stream",
     "text": [
      "<class 'pandas.core.frame.DataFrame'>\n",
      "RangeIndex: 1000 entries, 0 to 999\n",
      "Data columns (total 23 columns):\n",
      " #   Column                               Non-Null Count  Dtype  \n",
      "---  ------                               --------------  -----  \n",
      " 0   first_name                           1000 non-null   object \n",
      " 1   last_name                            971 non-null    object \n",
      " 2   gender                               1000 non-null   object \n",
      " 3   past_3_years_bike_related_purchases  1000 non-null   int64  \n",
      " 4   DOB                                  983 non-null    object \n",
      " 5   job_title                            894 non-null    object \n",
      " 6   job_industry_category                835 non-null    object \n",
      " 7   wealth_segment                       1000 non-null   object \n",
      " 8   deceased_indicator                   1000 non-null   object \n",
      " 9   owns_car                             1000 non-null   object \n",
      " 10  tenure                               1000 non-null   int64  \n",
      " 11  address                              1000 non-null   object \n",
      " 12  postcode                             1000 non-null   int64  \n",
      " 13  state                                1000 non-null   object \n",
      " 14  country                              1000 non-null   object \n",
      " 15  property_valuation                   1000 non-null   int64  \n",
      " 16  Unnamed: 16                          1000 non-null   float64\n",
      " 17  Unnamed: 17                          1000 non-null   float64\n",
      " 18  Unnamed: 18                          1000 non-null   float64\n",
      " 19  Unnamed: 19                          1000 non-null   float64\n",
      " 20  Unnamed: 20                          1000 non-null   int64  \n",
      " 21  Rank                                 1000 non-null   int64  \n",
      " 22  Value                                1000 non-null   float64\n",
      "dtypes: float64(5), int64(6), object(12)\n",
      "memory usage: 179.8+ KB\n"
     ]
    }
   ],
   "source": [
    "# Data types of the columns\n",
    "NewCustomerList.info()"
   ]
  },
  {
   "cell_type": "code",
   "execution_count": 26,
   "id": "add11bcc-6513-49c4-b07f-220e6a230894",
   "metadata": {},
   "outputs": [],
   "source": [
    "# Drop the unnamed columns\n",
    "NewCustomerList.drop(['Unnamed: 16', 'Unnamed: 17', 'Unnamed: 18', 'Unnamed: 19', 'Unnamed: 20'], axis=1, inplace=True)"
   ]
  },
  {
   "cell_type": "code",
   "execution_count": 27,
   "id": "f6af3f96-88a2-4f15-9c65-eba7e649d0b8",
   "metadata": {},
   "outputs": [
    {
     "data": {
      "text/html": [
       "<div>\n",
       "<style scoped>\n",
       "    .dataframe tbody tr th:only-of-type {\n",
       "        vertical-align: middle;\n",
       "    }\n",
       "\n",
       "    .dataframe tbody tr th {\n",
       "        vertical-align: top;\n",
       "    }\n",
       "\n",
       "    .dataframe thead th {\n",
       "        text-align: right;\n",
       "    }\n",
       "</style>\n",
       "<table border=\"1\" class=\"dataframe\">\n",
       "  <thead>\n",
       "    <tr style=\"text-align: right;\">\n",
       "      <th></th>\n",
       "      <th>first_name</th>\n",
       "      <th>last_name</th>\n",
       "      <th>gender</th>\n",
       "      <th>past_3_years_bike_related_purchases</th>\n",
       "      <th>DOB</th>\n",
       "      <th>job_title</th>\n",
       "      <th>job_industry_category</th>\n",
       "      <th>wealth_segment</th>\n",
       "      <th>deceased_indicator</th>\n",
       "      <th>owns_car</th>\n",
       "      <th>tenure</th>\n",
       "      <th>address</th>\n",
       "      <th>postcode</th>\n",
       "      <th>state</th>\n",
       "      <th>country</th>\n",
       "      <th>property_valuation</th>\n",
       "      <th>Rank</th>\n",
       "      <th>Value</th>\n",
       "    </tr>\n",
       "  </thead>\n",
       "  <tbody>\n",
       "    <tr>\n",
       "      <th>316</th>\n",
       "      <td>Audry</td>\n",
       "      <td>Fann</td>\n",
       "      <td>Female</td>\n",
       "      <td>3</td>\n",
       "      <td>1957-10-17</td>\n",
       "      <td>Pharmacist</td>\n",
       "      <td>Health</td>\n",
       "      <td>Mass Customer</td>\n",
       "      <td>N</td>\n",
       "      <td>Yes</td>\n",
       "      <td>15</td>\n",
       "      <td>19 Debs Parkway</td>\n",
       "      <td>3029</td>\n",
       "      <td>VIC</td>\n",
       "      <td>Australia</td>\n",
       "      <td>6</td>\n",
       "      <td>312</td>\n",
       "      <td>1.0200</td>\n",
       "    </tr>\n",
       "    <tr>\n",
       "      <th>459</th>\n",
       "      <td>Gregorius</td>\n",
       "      <td>Leal</td>\n",
       "      <td>Male</td>\n",
       "      <td>7</td>\n",
       "      <td>1951-04-29</td>\n",
       "      <td>NaN</td>\n",
       "      <td>Retail</td>\n",
       "      <td>Affluent Customer</td>\n",
       "      <td>N</td>\n",
       "      <td>Yes</td>\n",
       "      <td>21</td>\n",
       "      <td>66 Merry Court</td>\n",
       "      <td>2033</td>\n",
       "      <td>NSW</td>\n",
       "      <td>Australia</td>\n",
       "      <td>12</td>\n",
       "      <td>455</td>\n",
       "      <td>0.8925</td>\n",
       "    </tr>\n",
       "    <tr>\n",
       "      <th>854</th>\n",
       "      <td>Maurine</td>\n",
       "      <td>Clee</td>\n",
       "      <td>Female</td>\n",
       "      <td>45</td>\n",
       "      <td>1980-09-13</td>\n",
       "      <td>Automation Specialist II</td>\n",
       "      <td>Property</td>\n",
       "      <td>High Net Worth</td>\n",
       "      <td>N</td>\n",
       "      <td>Yes</td>\n",
       "      <td>5</td>\n",
       "      <td>6 Maple Plaza</td>\n",
       "      <td>2042</td>\n",
       "      <td>NSW</td>\n",
       "      <td>Australia</td>\n",
       "      <td>10</td>\n",
       "      <td>854</td>\n",
       "      <td>0.5610</td>\n",
       "    </tr>\n",
       "    <tr>\n",
       "      <th>11</th>\n",
       "      <td>Wheeler</td>\n",
       "      <td>Winward</td>\n",
       "      <td>Male</td>\n",
       "      <td>48</td>\n",
       "      <td>1999-08-30</td>\n",
       "      <td>Environmental Specialist</td>\n",
       "      <td>Manufacturing</td>\n",
       "      <td>Mass Customer</td>\n",
       "      <td>N</td>\n",
       "      <td>No</td>\n",
       "      <td>10</td>\n",
       "      <td>3 Golden Leaf Point</td>\n",
       "      <td>3216</td>\n",
       "      <td>VIC</td>\n",
       "      <td>Australia</td>\n",
       "      <td>8</td>\n",
       "      <td>12</td>\n",
       "      <td>1.6250</td>\n",
       "    </tr>\n",
       "    <tr>\n",
       "      <th>978</th>\n",
       "      <td>Artemis</td>\n",
       "      <td>Swanson</td>\n",
       "      <td>Male</td>\n",
       "      <td>77</td>\n",
       "      <td>1977-02-12</td>\n",
       "      <td>Web Designer II</td>\n",
       "      <td>Argiculture</td>\n",
       "      <td>Mass Customer</td>\n",
       "      <td>N</td>\n",
       "      <td>Yes</td>\n",
       "      <td>13</td>\n",
       "      <td>5 Melvin Park</td>\n",
       "      <td>3810</td>\n",
       "      <td>VIC</td>\n",
       "      <td>Australia</td>\n",
       "      <td>5</td>\n",
       "      <td>979</td>\n",
       "      <td>0.4165</td>\n",
       "    </tr>\n",
       "  </tbody>\n",
       "</table>\n",
       "</div>"
      ],
      "text/plain": [
       "    first_name last_name  gender  past_3_years_bike_related_purchases   \n",
       "316      Audry      Fann  Female                                    3  \\\n",
       "459  Gregorius      Leal    Male                                    7   \n",
       "854    Maurine      Clee  Female                                   45   \n",
       "11     Wheeler   Winward    Male                                   48   \n",
       "978    Artemis   Swanson    Male                                   77   \n",
       "\n",
       "            DOB                 job_title job_industry_category   \n",
       "316  1957-10-17                Pharmacist                Health  \\\n",
       "459  1951-04-29                       NaN                Retail   \n",
       "854  1980-09-13  Automation Specialist II              Property   \n",
       "11   1999-08-30  Environmental Specialist         Manufacturing   \n",
       "978  1977-02-12           Web Designer II           Argiculture   \n",
       "\n",
       "        wealth_segment deceased_indicator owns_car  tenure   \n",
       "316      Mass Customer                  N      Yes      15  \\\n",
       "459  Affluent Customer                  N      Yes      21   \n",
       "854     High Net Worth                  N      Yes       5   \n",
       "11       Mass Customer                  N       No      10   \n",
       "978      Mass Customer                  N      Yes      13   \n",
       "\n",
       "                 address  postcode state    country  property_valuation  Rank   \n",
       "316      19 Debs Parkway      3029   VIC  Australia                   6   312  \\\n",
       "459       66 Merry Court      2033   NSW  Australia                  12   455   \n",
       "854        6 Maple Plaza      2042   NSW  Australia                  10   854   \n",
       "11   3 Golden Leaf Point      3216   VIC  Australia                   8    12   \n",
       "978        5 Melvin Park      3810   VIC  Australia                   5   979   \n",
       "\n",
       "      Value  \n",
       "316  1.0200  \n",
       "459  0.8925  \n",
       "854  0.5610  \n",
       "11   1.6250  \n",
       "978  0.4165  "
      ]
     },
     "execution_count": 27,
     "metadata": {},
     "output_type": "execute_result"
    }
   ],
   "source": [
    "# Display a few rows\n",
    "NewCustomerList.sample(n=5, random_state=50)"
   ]
  },
  {
   "cell_type": "markdown",
   "id": "7ba60a87-8249-4c80-be98-8fdf5ccc49d2",
   "metadata": {},
   "source": [
    "- The `DOB` column should have a datetime data type.\n",
    "- The `owns_car` should be converted to boolean data type.\n",
    "- The `postcode` column is categorical data, rather than numerical data, so it should be converted to string data type."
   ]
  },
  {
   "cell_type": "code",
   "execution_count": 28,
   "id": "cc1ea59d-cc66-4a72-9afb-b1a244516cd5",
   "metadata": {},
   "outputs": [
    {
     "data": {
      "text/plain": [
       "first_name                             False\n",
       "last_name                               True\n",
       "gender                                 False\n",
       "past_3_years_bike_related_purchases    False\n",
       "DOB                                     True\n",
       "job_title                               True\n",
       "job_industry_category                   True\n",
       "wealth_segment                         False\n",
       "deceased_indicator                     False\n",
       "owns_car                               False\n",
       "tenure                                 False\n",
       "address                                False\n",
       "postcode                               False\n",
       "state                                  False\n",
       "country                                False\n",
       "property_valuation                     False\n",
       "Rank                                   False\n",
       "Value                                  False\n",
       "dtype: bool"
      ]
     },
     "execution_count": 28,
     "metadata": {},
     "output_type": "execute_result"
    }
   ],
   "source": [
    "# Detect missing value\n",
    "NewCustomerList.isna().any()"
   ]
  },
  {
   "cell_type": "code",
   "execution_count": 29,
   "id": "53dc991d-a576-4ae3-91b2-f16212dbedab",
   "metadata": {},
   "outputs": [
    {
     "data": {
      "text/plain": [
       "first_name                               0\n",
       "last_name                               29\n",
       "gender                                   0\n",
       "past_3_years_bike_related_purchases      0\n",
       "DOB                                     17\n",
       "job_title                              106\n",
       "job_industry_category                  165\n",
       "wealth_segment                           0\n",
       "deceased_indicator                       0\n",
       "owns_car                                 0\n",
       "tenure                                   0\n",
       "address                                  0\n",
       "postcode                                 0\n",
       "state                                    0\n",
       "country                                  0\n",
       "property_valuation                       0\n",
       "Rank                                     0\n",
       "Value                                    0\n",
       "dtype: int64"
      ]
     },
     "execution_count": 29,
     "metadata": {},
     "output_type": "execute_result"
    }
   ],
   "source": [
    "# Summarize missing value\n",
    "NewCustomerList.isna().sum()"
   ]
  },
  {
   "cell_type": "code",
   "execution_count": 30,
   "id": "8b0e3b7e-0d8c-410d-9094-40572e78b01f",
   "metadata": {},
   "outputs": [
    {
     "data": {
      "text/plain": [
       "317"
      ]
     },
     "execution_count": 30,
     "metadata": {},
     "output_type": "execute_result"
    }
   ],
   "source": [
    "NewCustomerList.isna().sum().sum()"
   ]
  },
  {
   "cell_type": "markdown",
   "id": "8e7cb95d-99d7-4f49-a9e2-6b1f366e85f4",
   "metadata": {},
   "source": [
    "- There are missing values in 4 columns, so they can be dropped or handled.\n",
    "- Missing values in the `last_name` column can be filled with values in the `first_name` column."
   ]
  },
  {
   "cell_type": "code",
   "execution_count": 31,
   "id": "d2ae1adb-0875-4106-8086-060866bfa82d",
   "metadata": {},
   "outputs": [
    {
     "data": {
      "text/plain": [
       "0"
      ]
     },
     "execution_count": 31,
     "metadata": {},
     "output_type": "execute_result"
    }
   ],
   "source": [
    "# Detect duplicated value\n",
    "NewCustomerList.duplicated().sum()"
   ]
  },
  {
   "cell_type": "markdown",
   "id": "66029d5b-9742-472d-8f9b-eb14529fbdca",
   "metadata": {},
   "source": [
    "- There are no duplicate values."
   ]
  },
  {
   "cell_type": "markdown",
   "id": "b90803f9-9bd3-4920-ad38-852fe7caf26d",
   "metadata": {},
   "source": [
    "### Explore the columns"
   ]
  },
  {
   "cell_type": "code",
   "execution_count": 32,
   "id": "18671477-6627-4c9a-be3a-f552cc14f170",
   "metadata": {},
   "outputs": [
    {
     "data": {
      "text/plain": [
       "Index(['first_name', 'last_name', 'gender',\n",
       "       'past_3_years_bike_related_purchases', 'DOB', 'job_title',\n",
       "       'job_industry_category', 'wealth_segment', 'deceased_indicator',\n",
       "       'owns_car', 'tenure', 'address', 'postcode', 'state', 'country',\n",
       "       'property_valuation', 'Rank', 'Value'],\n",
       "      dtype='object')"
      ]
     },
     "execution_count": 32,
     "metadata": {},
     "output_type": "execute_result"
    }
   ],
   "source": [
    "NewCustomerList.columns"
   ]
  },
  {
   "cell_type": "code",
   "execution_count": 33,
   "id": "982a882f-c2a3-4a61-a3da-129ac30f369e",
   "metadata": {},
   "outputs": [
    {
     "data": {
      "text/plain": [
       "first_name                              940\n",
       "last_name                               961\n",
       "gender                                    3\n",
       "past_3_years_bike_related_purchases     100\n",
       "DOB                                     961\n",
       "job_title                               184\n",
       "job_industry_category                     9\n",
       "wealth_segment                            3\n",
       "deceased_indicator                        1\n",
       "owns_car                                  2\n",
       "tenure                                   23\n",
       "address                                1000\n",
       "postcode                                522\n",
       "state                                     3\n",
       "country                                   1\n",
       "property_valuation                       12\n",
       "Rank                                    324\n",
       "Value                                   324\n",
       "dtype: int64"
      ]
     },
     "execution_count": 33,
     "metadata": {},
     "output_type": "execute_result"
    }
   ],
   "source": [
    "# Number of unique classes\n",
    "NewCustomerList.nunique()"
   ]
  },
  {
   "cell_type": "code",
   "execution_count": 34,
   "id": "17be5c52-3574-4921-92a2-019b2be18c98",
   "metadata": {},
   "outputs": [
    {
     "data": {
      "text/html": [
       "<div>\n",
       "<style scoped>\n",
       "    .dataframe tbody tr th:only-of-type {\n",
       "        vertical-align: middle;\n",
       "    }\n",
       "\n",
       "    .dataframe tbody tr th {\n",
       "        vertical-align: top;\n",
       "    }\n",
       "\n",
       "    .dataframe thead th {\n",
       "        text-align: right;\n",
       "    }\n",
       "</style>\n",
       "<table border=\"1\" class=\"dataframe\">\n",
       "  <thead>\n",
       "    <tr style=\"text-align: right;\">\n",
       "      <th></th>\n",
       "      <th>Feature Name</th>\n",
       "      <th>Unique Classes</th>\n",
       "    </tr>\n",
       "  </thead>\n",
       "  <tbody>\n",
       "    <tr>\n",
       "      <th>0</th>\n",
       "      <td>first_name</td>\n",
       "      <td>[Chickie, Morly, Ardelis, Lucine, Melinda, Dru...</td>\n",
       "    </tr>\n",
       "    <tr>\n",
       "      <th>1</th>\n",
       "      <td>last_name</td>\n",
       "      <td>[Brister, Genery, Forrester, Stutt, Hadlee, Br...</td>\n",
       "    </tr>\n",
       "    <tr>\n",
       "      <th>2</th>\n",
       "      <td>gender</td>\n",
       "      <td>[Male, Female, U]</td>\n",
       "    </tr>\n",
       "    <tr>\n",
       "      <th>3</th>\n",
       "      <td>past_3_years_bike_related_purchases</td>\n",
       "      <td>[86, 69, 10, 64, 34, 39, 23, 74, 50, 72, 94, 4...</td>\n",
       "    </tr>\n",
       "    <tr>\n",
       "      <th>4</th>\n",
       "      <td>DOB</td>\n",
       "      <td>[1957-07-12, 1970-03-22, 1974-08-28 00:00:00, ...</td>\n",
       "    </tr>\n",
       "    <tr>\n",
       "      <th>5</th>\n",
       "      <td>job_title</td>\n",
       "      <td>[General Manager, Structural Engineer, Senior ...</td>\n",
       "    </tr>\n",
       "    <tr>\n",
       "      <th>6</th>\n",
       "      <td>job_industry_category</td>\n",
       "      <td>[Manufacturing, Property, Financial Services, ...</td>\n",
       "    </tr>\n",
       "    <tr>\n",
       "      <th>7</th>\n",
       "      <td>wealth_segment</td>\n",
       "      <td>[Mass Customer, Affluent Customer, High Net Wo...</td>\n",
       "    </tr>\n",
       "    <tr>\n",
       "      <th>8</th>\n",
       "      <td>deceased_indicator</td>\n",
       "      <td>[N]</td>\n",
       "    </tr>\n",
       "    <tr>\n",
       "      <th>9</th>\n",
       "      <td>owns_car</td>\n",
       "      <td>[Yes, No]</td>\n",
       "    </tr>\n",
       "    <tr>\n",
       "      <th>10</th>\n",
       "      <td>tenure</td>\n",
       "      <td>[14, 16, 10, 5, 19, 22, 8, 17, 3, 9, 4, 11, 12...</td>\n",
       "    </tr>\n",
       "    <tr>\n",
       "      <th>11</th>\n",
       "      <td>address</td>\n",
       "      <td>[45 Shopko Center, 14 Mccormick Park, 5 Colora...</td>\n",
       "    </tr>\n",
       "    <tr>\n",
       "      <th>12</th>\n",
       "      <td>postcode</td>\n",
       "      <td>[4500, 2113, 3505, 4814, 2093, 4075, 2620, 220...</td>\n",
       "    </tr>\n",
       "    <tr>\n",
       "      <th>13</th>\n",
       "      <td>state</td>\n",
       "      <td>[QLD, NSW, VIC]</td>\n",
       "    </tr>\n",
       "    <tr>\n",
       "      <th>14</th>\n",
       "      <td>country</td>\n",
       "      <td>[Australia]</td>\n",
       "    </tr>\n",
       "    <tr>\n",
       "      <th>15</th>\n",
       "      <td>property_valuation</td>\n",
       "      <td>[6, 11, 5, 1, 9, 7, 10, 8, 4, 2, 12, 3]</td>\n",
       "    </tr>\n",
       "    <tr>\n",
       "      <th>16</th>\n",
       "      <td>Rank</td>\n",
       "      <td>[1, 4, 6, 8, 10, 12, 13, 14, 16, 17, 19, 21, 2...</td>\n",
       "    </tr>\n",
       "    <tr>\n",
       "      <th>17</th>\n",
       "      <td>Value</td>\n",
       "      <td>[1.71875, 1.703125, 1.671875, 1.65625, 1.64062...</td>\n",
       "    </tr>\n",
       "  </tbody>\n",
       "</table>\n",
       "</div>"
      ],
      "text/plain": [
       "                           Feature Name   \n",
       "0                            first_name  \\\n",
       "1                             last_name   \n",
       "2                                gender   \n",
       "3   past_3_years_bike_related_purchases   \n",
       "4                                   DOB   \n",
       "5                             job_title   \n",
       "6                 job_industry_category   \n",
       "7                        wealth_segment   \n",
       "8                    deceased_indicator   \n",
       "9                              owns_car   \n",
       "10                               tenure   \n",
       "11                              address   \n",
       "12                             postcode   \n",
       "13                                state   \n",
       "14                              country   \n",
       "15                   property_valuation   \n",
       "16                                 Rank   \n",
       "17                                Value   \n",
       "\n",
       "                                       Unique Classes  \n",
       "0   [Chickie, Morly, Ardelis, Lucine, Melinda, Dru...  \n",
       "1   [Brister, Genery, Forrester, Stutt, Hadlee, Br...  \n",
       "2                                   [Male, Female, U]  \n",
       "3   [86, 69, 10, 64, 34, 39, 23, 74, 50, 72, 94, 4...  \n",
       "4   [1957-07-12, 1970-03-22, 1974-08-28 00:00:00, ...  \n",
       "5   [General Manager, Structural Engineer, Senior ...  \n",
       "6   [Manufacturing, Property, Financial Services, ...  \n",
       "7   [Mass Customer, Affluent Customer, High Net Wo...  \n",
       "8                                                 [N]  \n",
       "9                                           [Yes, No]  \n",
       "10  [14, 16, 10, 5, 19, 22, 8, 17, 3, 9, 4, 11, 12...  \n",
       "11  [45 Shopko Center, 14 Mccormick Park, 5 Colora...  \n",
       "12  [4500, 2113, 3505, 4814, 2093, 4075, 2620, 220...  \n",
       "13                                    [QLD, NSW, VIC]  \n",
       "14                                        [Australia]  \n",
       "15            [6, 11, 5, 1, 9, 7, 10, 8, 4, 2, 12, 3]  \n",
       "16  [1, 4, 6, 8, 10, 12, 13, 14, 16, 17, 19, 21, 2...  \n",
       "17  [1.71875, 1.703125, 1.671875, 1.65625, 1.64062...  "
      ]
     },
     "execution_count": 34,
     "metadata": {},
     "output_type": "execute_result"
    }
   ],
   "source": [
    "values = {'Feature Name'   : [],\n",
    "          'Unique Classes' : []}\n",
    "\n",
    "for col in NewCustomerList.columns:\n",
    "    values['Feature Name'].append(col)\n",
    "    values['Unique Classes'].append(NewCustomerList[col].unique())\n",
    "\n",
    "values = pd.DataFrame(values)\n",
    "values"
   ]
  },
  {
   "cell_type": "markdown",
   "id": "4e48595d-8c04-4b55-8bf3-23f824f7542d",
   "metadata": {},
   "source": [
    "- The `deceased_indicator` column has only one value or category, hence it can be dropped."
   ]
  },
  {
   "cell_type": "code",
   "execution_count": 35,
   "id": "22015c65-94c2-4a0c-9187-0c13d412c4fe",
   "metadata": {},
   "outputs": [
    {
     "data": {
      "text/plain": [
       "gender\n",
       "Female    513\n",
       "Male      470\n",
       "U          17\n",
       "Name: count, dtype: int64"
      ]
     },
     "execution_count": 35,
     "metadata": {},
     "output_type": "execute_result"
    }
   ],
   "source": [
    "NewCustomerList['gender'].value_counts()"
   ]
  },
  {
   "cell_type": "code",
   "execution_count": 36,
   "id": "5029e055-02ae-4f86-9df7-c7328554f302",
   "metadata": {},
   "outputs": [
    {
     "data": {
      "text/html": [
       "<div>\n",
       "<style scoped>\n",
       "    .dataframe tbody tr th:only-of-type {\n",
       "        vertical-align: middle;\n",
       "    }\n",
       "\n",
       "    .dataframe tbody tr th {\n",
       "        vertical-align: top;\n",
       "    }\n",
       "\n",
       "    .dataframe thead th {\n",
       "        text-align: right;\n",
       "    }\n",
       "</style>\n",
       "<table border=\"1\" class=\"dataframe\">\n",
       "  <thead>\n",
       "    <tr style=\"text-align: right;\">\n",
       "      <th></th>\n",
       "      <th>index</th>\n",
       "      <th>first_name</th>\n",
       "      <th>last_name</th>\n",
       "      <th>gender</th>\n",
       "      <th>past_3_years_bike_related_purchases</th>\n",
       "      <th>DOB</th>\n",
       "      <th>job_title</th>\n",
       "      <th>job_industry_category</th>\n",
       "      <th>wealth_segment</th>\n",
       "      <th>deceased_indicator</th>\n",
       "      <th>owns_car</th>\n",
       "      <th>tenure</th>\n",
       "      <th>address</th>\n",
       "      <th>postcode</th>\n",
       "      <th>state</th>\n",
       "      <th>country</th>\n",
       "      <th>property_valuation</th>\n",
       "      <th>Rank</th>\n",
       "      <th>Value</th>\n",
       "    </tr>\n",
       "  </thead>\n",
       "  <tbody>\n",
       "    <tr>\n",
       "      <th>0</th>\n",
       "      <td>59</td>\n",
       "      <td>Normy</td>\n",
       "      <td>Goodinge</td>\n",
       "      <td>U</td>\n",
       "      <td>5</td>\n",
       "      <td>NaN</td>\n",
       "      <td>Associate Professor</td>\n",
       "      <td>IT</td>\n",
       "      <td>Mass Customer</td>\n",
       "      <td>N</td>\n",
       "      <td>No</td>\n",
       "      <td>4</td>\n",
       "      <td>7232 Fulton Parkway</td>\n",
       "      <td>3810</td>\n",
       "      <td>VIC</td>\n",
       "      <td>Australia</td>\n",
       "      <td>5</td>\n",
       "      <td>57</td>\n",
       "      <td>1.375000</td>\n",
       "    </tr>\n",
       "    <tr>\n",
       "      <th>1</th>\n",
       "      <td>226</td>\n",
       "      <td>Hatti</td>\n",
       "      <td>Carletti</td>\n",
       "      <td>U</td>\n",
       "      <td>35</td>\n",
       "      <td>NaN</td>\n",
       "      <td>Legal Assistant</td>\n",
       "      <td>IT</td>\n",
       "      <td>Affluent Customer</td>\n",
       "      <td>N</td>\n",
       "      <td>Yes</td>\n",
       "      <td>11</td>\n",
       "      <td>6 Iowa Center</td>\n",
       "      <td>2519</td>\n",
       "      <td>NSW</td>\n",
       "      <td>Australia</td>\n",
       "      <td>9</td>\n",
       "      <td>226</td>\n",
       "      <td>1.112500</td>\n",
       "    </tr>\n",
       "    <tr>\n",
       "      <th>2</th>\n",
       "      <td>324</td>\n",
       "      <td>Rozamond</td>\n",
       "      <td>Turtle</td>\n",
       "      <td>U</td>\n",
       "      <td>69</td>\n",
       "      <td>NaN</td>\n",
       "      <td>Legal Assistant</td>\n",
       "      <td>IT</td>\n",
       "      <td>Mass Customer</td>\n",
       "      <td>N</td>\n",
       "      <td>Yes</td>\n",
       "      <td>3</td>\n",
       "      <td>57025 New Castle Street</td>\n",
       "      <td>3850</td>\n",
       "      <td>VIC</td>\n",
       "      <td>Australia</td>\n",
       "      <td>3</td>\n",
       "      <td>324</td>\n",
       "      <td>1.010000</td>\n",
       "    </tr>\n",
       "    <tr>\n",
       "      <th>3</th>\n",
       "      <td>358</td>\n",
       "      <td>Tamas</td>\n",
       "      <td>Swatman</td>\n",
       "      <td>U</td>\n",
       "      <td>65</td>\n",
       "      <td>NaN</td>\n",
       "      <td>Assistant Media Planner</td>\n",
       "      <td>Entertainment</td>\n",
       "      <td>Affluent Customer</td>\n",
       "      <td>N</td>\n",
       "      <td>No</td>\n",
       "      <td>5</td>\n",
       "      <td>78 Clarendon Drive</td>\n",
       "      <td>4551</td>\n",
       "      <td>QLD</td>\n",
       "      <td>Australia</td>\n",
       "      <td>8</td>\n",
       "      <td>358</td>\n",
       "      <td>0.980000</td>\n",
       "    </tr>\n",
       "    <tr>\n",
       "      <th>4</th>\n",
       "      <td>360</td>\n",
       "      <td>Tracy</td>\n",
       "      <td>Andrejevic</td>\n",
       "      <td>U</td>\n",
       "      <td>71</td>\n",
       "      <td>NaN</td>\n",
       "      <td>Programmer II</td>\n",
       "      <td>IT</td>\n",
       "      <td>Mass Customer</td>\n",
       "      <td>N</td>\n",
       "      <td>Yes</td>\n",
       "      <td>11</td>\n",
       "      <td>5675 Burning Wood Trail</td>\n",
       "      <td>3030</td>\n",
       "      <td>VIC</td>\n",
       "      <td>Australia</td>\n",
       "      <td>7</td>\n",
       "      <td>361</td>\n",
       "      <td>0.977500</td>\n",
       "    </tr>\n",
       "    <tr>\n",
       "      <th>5</th>\n",
       "      <td>374</td>\n",
       "      <td>Agneta</td>\n",
       "      <td>McAmish</td>\n",
       "      <td>U</td>\n",
       "      <td>66</td>\n",
       "      <td>NaN</td>\n",
       "      <td>Structural Analysis Engineer</td>\n",
       "      <td>IT</td>\n",
       "      <td>Mass Customer</td>\n",
       "      <td>N</td>\n",
       "      <td>No</td>\n",
       "      <td>15</td>\n",
       "      <td>5773 Acker Way</td>\n",
       "      <td>4207</td>\n",
       "      <td>QLD</td>\n",
       "      <td>Australia</td>\n",
       "      <td>6</td>\n",
       "      <td>375</td>\n",
       "      <td>0.960000</td>\n",
       "    </tr>\n",
       "    <tr>\n",
       "      <th>6</th>\n",
       "      <td>434</td>\n",
       "      <td>Gregg</td>\n",
       "      <td>Aimeric</td>\n",
       "      <td>U</td>\n",
       "      <td>52</td>\n",
       "      <td>NaN</td>\n",
       "      <td>Internal Auditor</td>\n",
       "      <td>IT</td>\n",
       "      <td>Mass Customer</td>\n",
       "      <td>N</td>\n",
       "      <td>No</td>\n",
       "      <td>7</td>\n",
       "      <td>72423 Surrey Street</td>\n",
       "      <td>3753</td>\n",
       "      <td>VIC</td>\n",
       "      <td>Australia</td>\n",
       "      <td>5</td>\n",
       "      <td>433</td>\n",
       "      <td>0.906250</td>\n",
       "    </tr>\n",
       "    <tr>\n",
       "      <th>7</th>\n",
       "      <td>439</td>\n",
       "      <td>Johna</td>\n",
       "      <td>Bunker</td>\n",
       "      <td>U</td>\n",
       "      <td>93</td>\n",
       "      <td>NaN</td>\n",
       "      <td>Tax Accountant</td>\n",
       "      <td>IT</td>\n",
       "      <td>Mass Customer</td>\n",
       "      <td>N</td>\n",
       "      <td>Yes</td>\n",
       "      <td>14</td>\n",
       "      <td>3686 Waubesa Way</td>\n",
       "      <td>3065</td>\n",
       "      <td>VIC</td>\n",
       "      <td>Australia</td>\n",
       "      <td>6</td>\n",
       "      <td>436</td>\n",
       "      <td>0.903125</td>\n",
       "    </tr>\n",
       "    <tr>\n",
       "      <th>8</th>\n",
       "      <td>574</td>\n",
       "      <td>Harlene</td>\n",
       "      <td>Nono</td>\n",
       "      <td>U</td>\n",
       "      <td>69</td>\n",
       "      <td>NaN</td>\n",
       "      <td>Human Resources Manager</td>\n",
       "      <td>IT</td>\n",
       "      <td>Mass Customer</td>\n",
       "      <td>N</td>\n",
       "      <td>No</td>\n",
       "      <td>12</td>\n",
       "      <td>0307 Namekagon Crossing</td>\n",
       "      <td>2170</td>\n",
       "      <td>NSW</td>\n",
       "      <td>Australia</td>\n",
       "      <td>7</td>\n",
       "      <td>575</td>\n",
       "      <td>0.796875</td>\n",
       "    </tr>\n",
       "    <tr>\n",
       "      <th>9</th>\n",
       "      <td>598</td>\n",
       "      <td>Gerianne</td>\n",
       "      <td>Kaysor</td>\n",
       "      <td>U</td>\n",
       "      <td>15</td>\n",
       "      <td>NaN</td>\n",
       "      <td>Project Manager</td>\n",
       "      <td>IT</td>\n",
       "      <td>Affluent Customer</td>\n",
       "      <td>N</td>\n",
       "      <td>No</td>\n",
       "      <td>5</td>\n",
       "      <td>882 Toban Lane</td>\n",
       "      <td>2121</td>\n",
       "      <td>NSW</td>\n",
       "      <td>Australia</td>\n",
       "      <td>11</td>\n",
       "      <td>599</td>\n",
       "      <td>0.775000</td>\n",
       "    </tr>\n",
       "    <tr>\n",
       "      <th>10</th>\n",
       "      <td>664</td>\n",
       "      <td>Chicky</td>\n",
       "      <td>Sinclar</td>\n",
       "      <td>U</td>\n",
       "      <td>43</td>\n",
       "      <td>NaN</td>\n",
       "      <td>Operator</td>\n",
       "      <td>IT</td>\n",
       "      <td>High Net Worth</td>\n",
       "      <td>N</td>\n",
       "      <td>Yes</td>\n",
       "      <td>0</td>\n",
       "      <td>5 Red Cloud Place</td>\n",
       "      <td>3222</td>\n",
       "      <td>VIC</td>\n",
       "      <td>Australia</td>\n",
       "      <td>4</td>\n",
       "      <td>662</td>\n",
       "      <td>0.711875</td>\n",
       "    </tr>\n",
       "    <tr>\n",
       "      <th>11</th>\n",
       "      <td>751</td>\n",
       "      <td>Adriana</td>\n",
       "      <td>Saundercock</td>\n",
       "      <td>U</td>\n",
       "      <td>20</td>\n",
       "      <td>NaN</td>\n",
       "      <td>Nurse</td>\n",
       "      <td>IT</td>\n",
       "      <td>High Net Worth</td>\n",
       "      <td>N</td>\n",
       "      <td>Yes</td>\n",
       "      <td>14</td>\n",
       "      <td>82 Gina Junction</td>\n",
       "      <td>3806</td>\n",
       "      <td>VIC</td>\n",
       "      <td>Australia</td>\n",
       "      <td>7</td>\n",
       "      <td>751</td>\n",
       "      <td>0.648125</td>\n",
       "    </tr>\n",
       "    <tr>\n",
       "      <th>12</th>\n",
       "      <td>775</td>\n",
       "      <td>Dmitri</td>\n",
       "      <td>Viant</td>\n",
       "      <td>U</td>\n",
       "      <td>62</td>\n",
       "      <td>NaN</td>\n",
       "      <td>Paralegal</td>\n",
       "      <td>Financial Services</td>\n",
       "      <td>Affluent Customer</td>\n",
       "      <td>N</td>\n",
       "      <td>No</td>\n",
       "      <td>5</td>\n",
       "      <td>95960 Warner Parkway</td>\n",
       "      <td>3842</td>\n",
       "      <td>VIC</td>\n",
       "      <td>Australia</td>\n",
       "      <td>1</td>\n",
       "      <td>774</td>\n",
       "      <td>0.626875</td>\n",
       "    </tr>\n",
       "    <tr>\n",
       "      <th>13</th>\n",
       "      <td>835</td>\n",
       "      <td>Porty</td>\n",
       "      <td>Hansed</td>\n",
       "      <td>U</td>\n",
       "      <td>88</td>\n",
       "      <td>NaN</td>\n",
       "      <td>General Manager</td>\n",
       "      <td>IT</td>\n",
       "      <td>Mass Customer</td>\n",
       "      <td>N</td>\n",
       "      <td>No</td>\n",
       "      <td>13</td>\n",
       "      <td>768 Southridge Drive</td>\n",
       "      <td>2112</td>\n",
       "      <td>NSW</td>\n",
       "      <td>Australia</td>\n",
       "      <td>11</td>\n",
       "      <td>832</td>\n",
       "      <td>0.575000</td>\n",
       "    </tr>\n",
       "    <tr>\n",
       "      <th>14</th>\n",
       "      <td>883</td>\n",
       "      <td>Shara</td>\n",
       "      <td>Bramhill</td>\n",
       "      <td>U</td>\n",
       "      <td>24</td>\n",
       "      <td>NaN</td>\n",
       "      <td>NaN</td>\n",
       "      <td>IT</td>\n",
       "      <td>Affluent Customer</td>\n",
       "      <td>N</td>\n",
       "      <td>No</td>\n",
       "      <td>2</td>\n",
       "      <td>01 Bunker Hill Drive</td>\n",
       "      <td>2230</td>\n",
       "      <td>NSW</td>\n",
       "      <td>Australia</td>\n",
       "      <td>10</td>\n",
       "      <td>883</td>\n",
       "      <td>0.531250</td>\n",
       "    </tr>\n",
       "    <tr>\n",
       "      <th>15</th>\n",
       "      <td>904</td>\n",
       "      <td>Roth</td>\n",
       "      <td>Crum</td>\n",
       "      <td>U</td>\n",
       "      <td>0</td>\n",
       "      <td>NaN</td>\n",
       "      <td>Legal Assistant</td>\n",
       "      <td>IT</td>\n",
       "      <td>Mass Customer</td>\n",
       "      <td>N</td>\n",
       "      <td>No</td>\n",
       "      <td>2</td>\n",
       "      <td>276 Anthes Court</td>\n",
       "      <td>2450</td>\n",
       "      <td>NSW</td>\n",
       "      <td>Australia</td>\n",
       "      <td>6</td>\n",
       "      <td>904</td>\n",
       "      <td>0.500000</td>\n",
       "    </tr>\n",
       "    <tr>\n",
       "      <th>16</th>\n",
       "      <td>984</td>\n",
       "      <td>Pauline</td>\n",
       "      <td>Dallosso</td>\n",
       "      <td>U</td>\n",
       "      <td>82</td>\n",
       "      <td>NaN</td>\n",
       "      <td>Desktop Support Technician</td>\n",
       "      <td>IT</td>\n",
       "      <td>Affluent Customer</td>\n",
       "      <td>N</td>\n",
       "      <td>Yes</td>\n",
       "      <td>0</td>\n",
       "      <td>9594 Badeau Street</td>\n",
       "      <td>2050</td>\n",
       "      <td>NSW</td>\n",
       "      <td>Australia</td>\n",
       "      <td>10</td>\n",
       "      <td>985</td>\n",
       "      <td>0.408000</td>\n",
       "    </tr>\n",
       "  </tbody>\n",
       "</table>\n",
       "</div>"
      ],
      "text/plain": [
       "    index first_name    last_name gender  past_3_years_bike_related_purchases   \n",
       "0      59      Normy     Goodinge      U                                    5  \\\n",
       "1     226      Hatti     Carletti      U                                   35   \n",
       "2     324   Rozamond       Turtle      U                                   69   \n",
       "3     358      Tamas      Swatman      U                                   65   \n",
       "4     360      Tracy   Andrejevic      U                                   71   \n",
       "5     374     Agneta      McAmish      U                                   66   \n",
       "6     434      Gregg      Aimeric      U                                   52   \n",
       "7     439      Johna       Bunker      U                                   93   \n",
       "8     574    Harlene         Nono      U                                   69   \n",
       "9     598   Gerianne       Kaysor      U                                   15   \n",
       "10    664     Chicky      Sinclar      U                                   43   \n",
       "11    751    Adriana  Saundercock      U                                   20   \n",
       "12    775     Dmitri        Viant      U                                   62   \n",
       "13    835      Porty       Hansed      U                                   88   \n",
       "14    883      Shara     Bramhill      U                                   24   \n",
       "15    904       Roth         Crum      U                                    0   \n",
       "16    984    Pauline     Dallosso      U                                   82   \n",
       "\n",
       "    DOB                     job_title job_industry_category   \n",
       "0   NaN           Associate Professor                    IT  \\\n",
       "1   NaN               Legal Assistant                    IT   \n",
       "2   NaN               Legal Assistant                    IT   \n",
       "3   NaN       Assistant Media Planner         Entertainment   \n",
       "4   NaN                 Programmer II                    IT   \n",
       "5   NaN  Structural Analysis Engineer                    IT   \n",
       "6   NaN              Internal Auditor                    IT   \n",
       "7   NaN                Tax Accountant                    IT   \n",
       "8   NaN       Human Resources Manager                    IT   \n",
       "9   NaN               Project Manager                    IT   \n",
       "10  NaN                      Operator                    IT   \n",
       "11  NaN                         Nurse                    IT   \n",
       "12  NaN                     Paralegal    Financial Services   \n",
       "13  NaN               General Manager                    IT   \n",
       "14  NaN                           NaN                    IT   \n",
       "15  NaN               Legal Assistant                    IT   \n",
       "16  NaN    Desktop Support Technician                    IT   \n",
       "\n",
       "       wealth_segment deceased_indicator owns_car  tenure   \n",
       "0       Mass Customer                  N       No       4  \\\n",
       "1   Affluent Customer                  N      Yes      11   \n",
       "2       Mass Customer                  N      Yes       3   \n",
       "3   Affluent Customer                  N       No       5   \n",
       "4       Mass Customer                  N      Yes      11   \n",
       "5       Mass Customer                  N       No      15   \n",
       "6       Mass Customer                  N       No       7   \n",
       "7       Mass Customer                  N      Yes      14   \n",
       "8       Mass Customer                  N       No      12   \n",
       "9   Affluent Customer                  N       No       5   \n",
       "10     High Net Worth                  N      Yes       0   \n",
       "11     High Net Worth                  N      Yes      14   \n",
       "12  Affluent Customer                  N       No       5   \n",
       "13      Mass Customer                  N       No      13   \n",
       "14  Affluent Customer                  N       No       2   \n",
       "15      Mass Customer                  N       No       2   \n",
       "16  Affluent Customer                  N      Yes       0   \n",
       "\n",
       "                    address  postcode state    country  property_valuation   \n",
       "0       7232 Fulton Parkway      3810   VIC  Australia                   5  \\\n",
       "1             6 Iowa Center      2519   NSW  Australia                   9   \n",
       "2   57025 New Castle Street      3850   VIC  Australia                   3   \n",
       "3        78 Clarendon Drive      4551   QLD  Australia                   8   \n",
       "4   5675 Burning Wood Trail      3030   VIC  Australia                   7   \n",
       "5            5773 Acker Way      4207   QLD  Australia                   6   \n",
       "6       72423 Surrey Street      3753   VIC  Australia                   5   \n",
       "7          3686 Waubesa Way      3065   VIC  Australia                   6   \n",
       "8   0307 Namekagon Crossing      2170   NSW  Australia                   7   \n",
       "9            882 Toban Lane      2121   NSW  Australia                  11   \n",
       "10        5 Red Cloud Place      3222   VIC  Australia                   4   \n",
       "11         82 Gina Junction      3806   VIC  Australia                   7   \n",
       "12     95960 Warner Parkway      3842   VIC  Australia                   1   \n",
       "13     768 Southridge Drive      2112   NSW  Australia                  11   \n",
       "14     01 Bunker Hill Drive      2230   NSW  Australia                  10   \n",
       "15         276 Anthes Court      2450   NSW  Australia                   6   \n",
       "16       9594 Badeau Street      2050   NSW  Australia                  10   \n",
       "\n",
       "    Rank     Value  \n",
       "0     57  1.375000  \n",
       "1    226  1.112500  \n",
       "2    324  1.010000  \n",
       "3    358  0.980000  \n",
       "4    361  0.977500  \n",
       "5    375  0.960000  \n",
       "6    433  0.906250  \n",
       "7    436  0.903125  \n",
       "8    575  0.796875  \n",
       "9    599  0.775000  \n",
       "10   662  0.711875  \n",
       "11   751  0.648125  \n",
       "12   774  0.626875  \n",
       "13   832  0.575000  \n",
       "14   883  0.531250  \n",
       "15   904  0.500000  \n",
       "16   985  0.408000  "
      ]
     },
     "execution_count": 36,
     "metadata": {},
     "output_type": "execute_result"
    }
   ],
   "source": [
    "NewCustomerList[NewCustomerList['gender'] == 'U'].reset_index()"
   ]
  },
  {
   "cell_type": "markdown",
   "id": "a3798ed9-84f4-4ebf-972d-5907d5dea55e",
   "metadata": {},
   "source": [
    "- There are 17 rows where the gender is not specified.\n",
    "- All customers with unspecified gender have none date of birth (DOB) data."
   ]
  },
  {
   "cell_type": "code",
   "execution_count": 37,
   "id": "ac9ac942-afae-40dd-ac8d-33101f6a634b",
   "metadata": {},
   "outputs": [
    {
     "data": {
      "text/plain": [
       "gender\n",
       "Female         513\n",
       "Male           470\n",
       "Unspecified     17\n",
       "Name: count, dtype: int64"
      ]
     },
     "execution_count": 37,
     "metadata": {},
     "output_type": "execute_result"
    }
   ],
   "source": [
    "NewCustomerList['gender'] = NewCustomerList['gender'].replace('U', 'Unspecified')\n",
    "NewCustomerList['gender'].value_counts()"
   ]
  },
  {
   "cell_type": "code",
   "execution_count": 38,
   "id": "a0ebf160-b11d-43b8-aa6c-3a2de4115c40",
   "metadata": {},
   "outputs": [
    {
     "name": "stdout",
     "output_type": "stream",
     "text": [
      "job_title\n",
      "Associate Professor         15\n",
      "Environmental Tech          14\n",
      "Software Consultant         14\n",
      "Chief Design Engineer       13\n",
      "Assistant Manager           12\n",
      "                            ..\n",
      "Accountant II                1\n",
      "Programmer IV                1\n",
      "Administrative Officer       1\n",
      "Accounting Assistant III     1\n",
      "Web Developer I              1\n",
      "Name: count, Length: 184, dtype: int64\n",
      "\n",
      "job_industry_category\n",
      "Financial Services    203\n",
      "Manufacturing         199\n",
      "Health                152\n",
      "Retail                 78\n",
      "Property               64\n",
      "IT                     51\n",
      "Entertainment          37\n",
      "Argiculture            26\n",
      "Telecommunications     25\n",
      "Name: count, dtype: int64\n",
      "\n",
      "wealth_segment\n",
      "Mass Customer        508\n",
      "High Net Worth       251\n",
      "Affluent Customer    241\n",
      "Name: count, dtype: int64\n",
      "\n",
      "deceased_indicator\n",
      "N    1000\n",
      "Name: count, dtype: int64\n",
      "\n",
      "owns_car\n",
      "No     507\n",
      "Yes    493\n",
      "Name: count, dtype: int64\n",
      "\n"
     ]
    }
   ],
   "source": [
    "for col in NewCustomerList.columns[5:10]:    \n",
    "    print(NewCustomerList[col].value_counts())\n",
    "    print()"
   ]
  },
  {
   "cell_type": "code",
   "execution_count": 39,
   "id": "1ec8dc51-1fb1-41f9-b770-4d3a4d4bd3bc",
   "metadata": {},
   "outputs": [
    {
     "data": {
      "text/plain": [
       "state\n",
       "NSW    506\n",
       "VIC    266\n",
       "QLD    228\n",
       "Name: count, dtype: int64"
      ]
     },
     "execution_count": 39,
     "metadata": {},
     "output_type": "execute_result"
    }
   ],
   "source": [
    "NewCustomerList['state'].value_counts()"
   ]
  },
  {
   "cell_type": "code",
   "execution_count": 40,
   "id": "299efe29-94fd-45a4-afeb-1fdb06eefe51",
   "metadata": {
    "tags": []
   },
   "outputs": [
    {
     "data": {
      "text/plain": [
       "country\n",
       "Australia    1000\n",
       "Name: count, dtype: int64"
      ]
     },
     "execution_count": 40,
     "metadata": {},
     "output_type": "execute_result"
    }
   ],
   "source": [
    "NewCustomerList['country'].value_counts()"
   ]
  },
  {
   "cell_type": "markdown",
   "id": "9f8b06a5-35ee-4f72-9d78-5b849db343fb",
   "metadata": {},
   "source": [
    "### Descriptive Statistics"
   ]
  },
  {
   "cell_type": "code",
   "execution_count": 41,
   "id": "3518e558-8a10-432d-86d6-33e9658940df",
   "metadata": {
    "tags": []
   },
   "outputs": [],
   "source": [
    "# Define features\n",
    "num_nc = NewCustomerList.select_dtypes(exclude = ['object'])\n",
    "cat_nc = NewCustomerList.select_dtypes(include = ['object'])"
   ]
  },
  {
   "cell_type": "code",
   "execution_count": 42,
   "id": "9ef46f64-a039-4070-b0b0-03c941a17250",
   "metadata": {},
   "outputs": [
    {
     "data": {
      "text/plain": [
       "6"
      ]
     },
     "execution_count": 42,
     "metadata": {},
     "output_type": "execute_result"
    }
   ],
   "source": [
    "num_nc.shape[1]"
   ]
  },
  {
   "cell_type": "code",
   "execution_count": 43,
   "id": "13042600-67e8-4f69-87a7-64b2f90ab527",
   "metadata": {},
   "outputs": [
    {
     "data": {
      "text/plain": [
       "12"
      ]
     },
     "execution_count": 43,
     "metadata": {},
     "output_type": "execute_result"
    }
   ],
   "source": [
    "cat_nc.shape[1]"
   ]
  },
  {
   "cell_type": "markdown",
   "id": "2d0305f2-b768-416a-b10f-e4e860556c7e",
   "metadata": {},
   "source": [
    "#### 1. Numerical Features"
   ]
  },
  {
   "cell_type": "code",
   "execution_count": 44,
   "id": "617ba9c4-e143-40d1-8183-06b3955d6a13",
   "metadata": {},
   "outputs": [
    {
     "data": {
      "text/html": [
       "<div>\n",
       "<style scoped>\n",
       "    .dataframe tbody tr th:only-of-type {\n",
       "        vertical-align: middle;\n",
       "    }\n",
       "\n",
       "    .dataframe tbody tr th {\n",
       "        vertical-align: top;\n",
       "    }\n",
       "\n",
       "    .dataframe thead th {\n",
       "        text-align: right;\n",
       "    }\n",
       "</style>\n",
       "<table border=\"1\" class=\"dataframe\">\n",
       "  <thead>\n",
       "    <tr style=\"text-align: right;\">\n",
       "      <th></th>\n",
       "      <th>count</th>\n",
       "      <th>mean</th>\n",
       "      <th>std</th>\n",
       "      <th>min</th>\n",
       "      <th>25%</th>\n",
       "      <th>50%</th>\n",
       "      <th>75%</th>\n",
       "      <th>max</th>\n",
       "    </tr>\n",
       "  </thead>\n",
       "  <tbody>\n",
       "    <tr>\n",
       "      <th>past_3_years_bike_related_purchases</th>\n",
       "      <td>1000.0</td>\n",
       "      <td>49.836000</td>\n",
       "      <td>27.796686</td>\n",
       "      <td>0.00</td>\n",
       "      <td>26.750000</td>\n",
       "      <td>51.00</td>\n",
       "      <td>72.000</td>\n",
       "      <td>99.00000</td>\n",
       "    </tr>\n",
       "    <tr>\n",
       "      <th>tenure</th>\n",
       "      <td>1000.0</td>\n",
       "      <td>11.388000</td>\n",
       "      <td>5.037145</td>\n",
       "      <td>0.00</td>\n",
       "      <td>7.000000</td>\n",
       "      <td>11.00</td>\n",
       "      <td>15.000</td>\n",
       "      <td>22.00000</td>\n",
       "    </tr>\n",
       "    <tr>\n",
       "      <th>postcode</th>\n",
       "      <td>1000.0</td>\n",
       "      <td>3019.227000</td>\n",
       "      <td>848.895767</td>\n",
       "      <td>2000.00</td>\n",
       "      <td>2209.000000</td>\n",
       "      <td>2800.00</td>\n",
       "      <td>3845.500</td>\n",
       "      <td>4879.00000</td>\n",
       "    </tr>\n",
       "    <tr>\n",
       "      <th>property_valuation</th>\n",
       "      <td>1000.0</td>\n",
       "      <td>7.397000</td>\n",
       "      <td>2.758804</td>\n",
       "      <td>1.00</td>\n",
       "      <td>6.000000</td>\n",
       "      <td>8.00</td>\n",
       "      <td>9.000</td>\n",
       "      <td>12.00000</td>\n",
       "    </tr>\n",
       "    <tr>\n",
       "      <th>Rank</th>\n",
       "      <td>1000.0</td>\n",
       "      <td>498.819000</td>\n",
       "      <td>288.810997</td>\n",
       "      <td>1.00</td>\n",
       "      <td>250.000000</td>\n",
       "      <td>500.00</td>\n",
       "      <td>750.250</td>\n",
       "      <td>1000.00000</td>\n",
       "    </tr>\n",
       "    <tr>\n",
       "      <th>Value</th>\n",
       "      <td>1000.0</td>\n",
       "      <td>0.881714</td>\n",
       "      <td>0.293525</td>\n",
       "      <td>0.34</td>\n",
       "      <td>0.649531</td>\n",
       "      <td>0.86</td>\n",
       "      <td>1.075</td>\n",
       "      <td>1.71875</td>\n",
       "    </tr>\n",
       "  </tbody>\n",
       "</table>\n",
       "</div>"
      ],
      "text/plain": [
       "                                      count         mean         std      min   \n",
       "past_3_years_bike_related_purchases  1000.0    49.836000   27.796686     0.00  \\\n",
       "tenure                               1000.0    11.388000    5.037145     0.00   \n",
       "postcode                             1000.0  3019.227000  848.895767  2000.00   \n",
       "property_valuation                   1000.0     7.397000    2.758804     1.00   \n",
       "Rank                                 1000.0   498.819000  288.810997     1.00   \n",
       "Value                                1000.0     0.881714    0.293525     0.34   \n",
       "\n",
       "                                             25%      50%       75%   \n",
       "past_3_years_bike_related_purchases    26.750000    51.00    72.000  \\\n",
       "tenure                                  7.000000    11.00    15.000   \n",
       "postcode                             2209.000000  2800.00  3845.500   \n",
       "property_valuation                      6.000000     8.00     9.000   \n",
       "Rank                                  250.000000   500.00   750.250   \n",
       "Value                                   0.649531     0.86     1.075   \n",
       "\n",
       "                                            max  \n",
       "past_3_years_bike_related_purchases    99.00000  \n",
       "tenure                                 22.00000  \n",
       "postcode                             4879.00000  \n",
       "property_valuation                     12.00000  \n",
       "Rank                                 1000.00000  \n",
       "Value                                   1.71875  "
      ]
     },
     "execution_count": 44,
     "metadata": {},
     "output_type": "execute_result"
    }
   ],
   "source": [
    "# Summary statistics for numerical features\n",
    "num_nc.describe().T"
   ]
  },
  {
   "cell_type": "markdown",
   "id": "460da86c-4959-44ac-805c-136b9a9e6061",
   "metadata": {},
   "source": [
    "#### 2. Categorical Features"
   ]
  },
  {
   "cell_type": "code",
   "execution_count": 45,
   "id": "33a4ca35-fb72-4184-ba46-85e02c60c887",
   "metadata": {},
   "outputs": [
    {
     "data": {
      "text/html": [
       "<div>\n",
       "<style scoped>\n",
       "    .dataframe tbody tr th:only-of-type {\n",
       "        vertical-align: middle;\n",
       "    }\n",
       "\n",
       "    .dataframe tbody tr th {\n",
       "        vertical-align: top;\n",
       "    }\n",
       "\n",
       "    .dataframe thead th {\n",
       "        text-align: right;\n",
       "    }\n",
       "</style>\n",
       "<table border=\"1\" class=\"dataframe\">\n",
       "  <thead>\n",
       "    <tr style=\"text-align: right;\">\n",
       "      <th></th>\n",
       "      <th>count</th>\n",
       "      <th>unique</th>\n",
       "      <th>top</th>\n",
       "      <th>freq</th>\n",
       "    </tr>\n",
       "  </thead>\n",
       "  <tbody>\n",
       "    <tr>\n",
       "      <th>first_name</th>\n",
       "      <td>1000</td>\n",
       "      <td>940</td>\n",
       "      <td>Rozamond</td>\n",
       "      <td>3</td>\n",
       "    </tr>\n",
       "    <tr>\n",
       "      <th>last_name</th>\n",
       "      <td>971</td>\n",
       "      <td>961</td>\n",
       "      <td>Sissel</td>\n",
       "      <td>2</td>\n",
       "    </tr>\n",
       "    <tr>\n",
       "      <th>gender</th>\n",
       "      <td>1000</td>\n",
       "      <td>3</td>\n",
       "      <td>Female</td>\n",
       "      <td>513</td>\n",
       "    </tr>\n",
       "    <tr>\n",
       "      <th>DOB</th>\n",
       "      <td>983</td>\n",
       "      <td>961</td>\n",
       "      <td>1965-07-03</td>\n",
       "      <td>2</td>\n",
       "    </tr>\n",
       "    <tr>\n",
       "      <th>job_title</th>\n",
       "      <td>894</td>\n",
       "      <td>184</td>\n",
       "      <td>Associate Professor</td>\n",
       "      <td>15</td>\n",
       "    </tr>\n",
       "    <tr>\n",
       "      <th>job_industry_category</th>\n",
       "      <td>835</td>\n",
       "      <td>9</td>\n",
       "      <td>Financial Services</td>\n",
       "      <td>203</td>\n",
       "    </tr>\n",
       "    <tr>\n",
       "      <th>wealth_segment</th>\n",
       "      <td>1000</td>\n",
       "      <td>3</td>\n",
       "      <td>Mass Customer</td>\n",
       "      <td>508</td>\n",
       "    </tr>\n",
       "    <tr>\n",
       "      <th>deceased_indicator</th>\n",
       "      <td>1000</td>\n",
       "      <td>1</td>\n",
       "      <td>N</td>\n",
       "      <td>1000</td>\n",
       "    </tr>\n",
       "    <tr>\n",
       "      <th>owns_car</th>\n",
       "      <td>1000</td>\n",
       "      <td>2</td>\n",
       "      <td>No</td>\n",
       "      <td>507</td>\n",
       "    </tr>\n",
       "    <tr>\n",
       "      <th>address</th>\n",
       "      <td>1000</td>\n",
       "      <td>1000</td>\n",
       "      <td>45 Shopko Center</td>\n",
       "      <td>1</td>\n",
       "    </tr>\n",
       "    <tr>\n",
       "      <th>state</th>\n",
       "      <td>1000</td>\n",
       "      <td>3</td>\n",
       "      <td>NSW</td>\n",
       "      <td>506</td>\n",
       "    </tr>\n",
       "    <tr>\n",
       "      <th>country</th>\n",
       "      <td>1000</td>\n",
       "      <td>1</td>\n",
       "      <td>Australia</td>\n",
       "      <td>1000</td>\n",
       "    </tr>\n",
       "  </tbody>\n",
       "</table>\n",
       "</div>"
      ],
      "text/plain": [
       "                      count unique                  top  freq\n",
       "first_name             1000    940             Rozamond     3\n",
       "last_name               971    961               Sissel     2\n",
       "gender                 1000      3               Female   513\n",
       "DOB                     983    961           1965-07-03     2\n",
       "job_title               894    184  Associate Professor    15\n",
       "job_industry_category   835      9   Financial Services   203\n",
       "wealth_segment         1000      3        Mass Customer   508\n",
       "deceased_indicator     1000      1                    N  1000\n",
       "owns_car               1000      2                   No   507\n",
       "address                1000   1000     45 Shopko Center     1\n",
       "state                  1000      3                  NSW   506\n",
       "country                1000      1            Australia  1000"
      ]
     },
     "execution_count": 45,
     "metadata": {},
     "output_type": "execute_result"
    }
   ],
   "source": [
    "# Summary statistics for categorical features\n",
    "cat_nc.describe().T"
   ]
  },
  {
   "cell_type": "markdown",
   "id": "32138c3b-2bc8-4e04-8b18-e10763f6092f",
   "metadata": {},
   "source": [
    "## 3. Explore CustomerDemographic Data"
   ]
  },
  {
   "cell_type": "code",
   "execution_count": 46,
   "id": "2dee7f95-6111-4f76-94d8-53244dd65fea",
   "metadata": {},
   "outputs": [
    {
     "data": {
      "text/plain": [
       "(4000, 13)"
      ]
     },
     "execution_count": 46,
     "metadata": {},
     "output_type": "execute_result"
    }
   ],
   "source": [
    "# Dimensions of the DataFrame\n",
    "CustomerDemographic.shape"
   ]
  },
  {
   "cell_type": "code",
   "execution_count": 47,
   "id": "e9c0a986-216d-45c2-8d52-db91d56af4b4",
   "metadata": {},
   "outputs": [
    {
     "name": "stdout",
     "output_type": "stream",
     "text": [
      "Total rows: 4000\n",
      "Total cols: 13\n"
     ]
    }
   ],
   "source": [
    "print('Total rows: {}'.format(CustomerDemographic.shape[0]))\n",
    "print('Total cols: {}'.format(CustomerDemographic.shape[1]))"
   ]
  },
  {
   "cell_type": "code",
   "execution_count": 48,
   "id": "b1c11a31-4ed7-4cec-b30f-37fcbde27f6a",
   "metadata": {},
   "outputs": [
    {
     "name": "stdout",
     "output_type": "stream",
     "text": [
      "<class 'pandas.core.frame.DataFrame'>\n",
      "RangeIndex: 4000 entries, 0 to 3999\n",
      "Data columns (total 13 columns):\n",
      " #   Column                               Non-Null Count  Dtype  \n",
      "---  ------                               --------------  -----  \n",
      " 0   customer_id                          4000 non-null   int64  \n",
      " 1   first_name                           4000 non-null   object \n",
      " 2   last_name                            3875 non-null   object \n",
      " 3   gender                               4000 non-null   object \n",
      " 4   past_3_years_bike_related_purchases  4000 non-null   int64  \n",
      " 5   DOB                                  3913 non-null   object \n",
      " 6   job_title                            3494 non-null   object \n",
      " 7   job_industry_category                3344 non-null   object \n",
      " 8   wealth_segment                       4000 non-null   object \n",
      " 9   deceased_indicator                   4000 non-null   object \n",
      " 10  default                              3698 non-null   object \n",
      " 11  owns_car                             4000 non-null   object \n",
      " 12  tenure                               3913 non-null   float64\n",
      "dtypes: float64(1), int64(2), object(10)\n",
      "memory usage: 406.4+ KB\n"
     ]
    }
   ],
   "source": [
    "# Data types of the columns\n",
    "CustomerDemographic.info()"
   ]
  },
  {
   "cell_type": "code",
   "execution_count": 49,
   "id": "56331683-0547-4974-8ec5-31d41ead238d",
   "metadata": {},
   "outputs": [
    {
     "data": {
      "text/html": [
       "<div>\n",
       "<style scoped>\n",
       "    .dataframe tbody tr th:only-of-type {\n",
       "        vertical-align: middle;\n",
       "    }\n",
       "\n",
       "    .dataframe tbody tr th {\n",
       "        vertical-align: top;\n",
       "    }\n",
       "\n",
       "    .dataframe thead th {\n",
       "        text-align: right;\n",
       "    }\n",
       "</style>\n",
       "<table border=\"1\" class=\"dataframe\">\n",
       "  <thead>\n",
       "    <tr style=\"text-align: right;\">\n",
       "      <th></th>\n",
       "      <th>customer_id</th>\n",
       "      <th>first_name</th>\n",
       "      <th>last_name</th>\n",
       "      <th>gender</th>\n",
       "      <th>past_3_years_bike_related_purchases</th>\n",
       "      <th>DOB</th>\n",
       "      <th>job_title</th>\n",
       "      <th>job_industry_category</th>\n",
       "      <th>wealth_segment</th>\n",
       "      <th>deceased_indicator</th>\n",
       "      <th>default</th>\n",
       "      <th>owns_car</th>\n",
       "      <th>tenure</th>\n",
       "    </tr>\n",
       "  </thead>\n",
       "  <tbody>\n",
       "    <tr>\n",
       "      <th>3218</th>\n",
       "      <td>3219</td>\n",
       "      <td>Denyse</td>\n",
       "      <td>Scutts</td>\n",
       "      <td>Female</td>\n",
       "      <td>94</td>\n",
       "      <td>1998-01-06 00:00:00</td>\n",
       "      <td>Web Developer III</td>\n",
       "      <td>Financial Services</td>\n",
       "      <td>Mass Customer</td>\n",
       "      <td>N</td>\n",
       "      <td>100</td>\n",
       "      <td>No</td>\n",
       "      <td>3.0</td>\n",
       "    </tr>\n",
       "    <tr>\n",
       "      <th>2007</th>\n",
       "      <td>2008</td>\n",
       "      <td>Jamill</td>\n",
       "      <td>Cudd</td>\n",
       "      <td>Male</td>\n",
       "      <td>77</td>\n",
       "      <td>1993-07-27 00:00:00</td>\n",
       "      <td>Analyst Programmer</td>\n",
       "      <td>Financial Services</td>\n",
       "      <td>Mass Customer</td>\n",
       "      <td>N</td>\n",
       "      <td>1</td>\n",
       "      <td>Yes</td>\n",
       "      <td>3.0</td>\n",
       "    </tr>\n",
       "    <tr>\n",
       "      <th>3639</th>\n",
       "      <td>3640</td>\n",
       "      <td>Merralee</td>\n",
       "      <td>Forman</td>\n",
       "      <td>Female</td>\n",
       "      <td>64</td>\n",
       "      <td>1985-04-28 00:00:00</td>\n",
       "      <td>Staff Scientist</td>\n",
       "      <td>NaN</td>\n",
       "      <td>Mass Customer</td>\n",
       "      <td>N</td>\n",
       "      <td>0ï¸â£ 1ï¸â£ 2ï¸â£ 3ï¸â£ 4ï¸â£ 5ï¸â£ 6ï¸â£ 7ï¸â...</td>\n",
       "      <td>No</td>\n",
       "      <td>10.0</td>\n",
       "    </tr>\n",
       "    <tr>\n",
       "      <th>2165</th>\n",
       "      <td>2166</td>\n",
       "      <td>Mareah</td>\n",
       "      <td>Woodnutt</td>\n",
       "      <td>Female</td>\n",
       "      <td>78</td>\n",
       "      <td>1984-11-09 00:00:00</td>\n",
       "      <td>Nurse</td>\n",
       "      <td>Property</td>\n",
       "      <td>Mass Customer</td>\n",
       "      <td>N</td>\n",
       "      <td>ð</td>\n",
       "      <td>No</td>\n",
       "      <td>16.0</td>\n",
       "    </tr>\n",
       "    <tr>\n",
       "      <th>2300</th>\n",
       "      <td>2301</td>\n",
       "      <td>Ken</td>\n",
       "      <td>Vashchenko</td>\n",
       "      <td>Male</td>\n",
       "      <td>66</td>\n",
       "      <td>1966-10-30 00:00:00</td>\n",
       "      <td>Senior Cost Accountant</td>\n",
       "      <td>Financial Services</td>\n",
       "      <td>Mass Customer</td>\n",
       "      <td>N</td>\n",
       "      <td>00ËÆ$-</td>\n",
       "      <td>Yes</td>\n",
       "      <td>19.0</td>\n",
       "    </tr>\n",
       "  </tbody>\n",
       "</table>\n",
       "</div>"
      ],
      "text/plain": [
       "      customer_id first_name   last_name  gender   \n",
       "3218         3219     Denyse      Scutts  Female  \\\n",
       "2007         2008     Jamill        Cudd    Male   \n",
       "3639         3640   Merralee      Forman  Female   \n",
       "2165         2166     Mareah    Woodnutt  Female   \n",
       "2300         2301        Ken  Vashchenko    Male   \n",
       "\n",
       "      past_3_years_bike_related_purchases                  DOB   \n",
       "3218                                   94  1998-01-06 00:00:00  \\\n",
       "2007                                   77  1993-07-27 00:00:00   \n",
       "3639                                   64  1985-04-28 00:00:00   \n",
       "2165                                   78  1984-11-09 00:00:00   \n",
       "2300                                   66  1966-10-30 00:00:00   \n",
       "\n",
       "                   job_title job_industry_category wealth_segment   \n",
       "3218       Web Developer III    Financial Services  Mass Customer  \\\n",
       "2007      Analyst Programmer    Financial Services  Mass Customer   \n",
       "3639         Staff Scientist                   NaN  Mass Customer   \n",
       "2165                   Nurse              Property  Mass Customer   \n",
       "2300  Senior Cost Accountant    Financial Services  Mass Customer   \n",
       "\n",
       "     deceased_indicator                                            default   \n",
       "3218                  N                                                100  \\\n",
       "2007                  N                                                  1   \n",
       "3639                  N  0ï¸â£ 1ï¸â£ 2ï¸â£ 3ï¸â£ 4ï¸â£ 5ï¸â£ 6ï¸â£ 7ï¸â...   \n",
       "2165                  N                                                  ð   \n",
       "2300                  N                                             00ËÆ$-   \n",
       "\n",
       "     owns_car  tenure  \n",
       "3218       No     3.0  \n",
       "2007      Yes     3.0  \n",
       "3639       No    10.0  \n",
       "2165       No    16.0  \n",
       "2300      Yes    19.0  "
      ]
     },
     "execution_count": 49,
     "metadata": {},
     "output_type": "execute_result"
    }
   ],
   "source": [
    "# Display a few rows\n",
    "CustomerDemographic.sample(n=5, random_state=50)"
   ]
  },
  {
   "cell_type": "markdown",
   "id": "ec61111f-f4cb-485a-8c59-67d10a14c041",
   "metadata": {},
   "source": [
    "- The column `tenure` should have an integer data type."
   ]
  },
  {
   "cell_type": "code",
   "execution_count": 50,
   "id": "c6b34d25-4168-460e-bb1e-92e9b7f0a11d",
   "metadata": {},
   "outputs": [
    {
     "data": {
      "text/plain": [
       "customer_id                            False\n",
       "first_name                             False\n",
       "last_name                               True\n",
       "gender                                 False\n",
       "past_3_years_bike_related_purchases    False\n",
       "DOB                                     True\n",
       "job_title                               True\n",
       "job_industry_category                   True\n",
       "wealth_segment                         False\n",
       "deceased_indicator                     False\n",
       "default                                 True\n",
       "owns_car                               False\n",
       "tenure                                  True\n",
       "dtype: bool"
      ]
     },
     "execution_count": 50,
     "metadata": {},
     "output_type": "execute_result"
    }
   ],
   "source": [
    "# Detect missing value\n",
    "CustomerDemographic.isna().any()"
   ]
  },
  {
   "cell_type": "code",
   "execution_count": 51,
   "id": "f4c3f53f-2513-4eb9-8f1a-a5af071b31ab",
   "metadata": {},
   "outputs": [
    {
     "data": {
      "text/plain": [
       "customer_id                              0\n",
       "first_name                               0\n",
       "last_name                              125\n",
       "gender                                   0\n",
       "past_3_years_bike_related_purchases      0\n",
       "DOB                                     87\n",
       "job_title                              506\n",
       "job_industry_category                  656\n",
       "wealth_segment                           0\n",
       "deceased_indicator                       0\n",
       "default                                302\n",
       "owns_car                                 0\n",
       "tenure                                  87\n",
       "dtype: int64"
      ]
     },
     "execution_count": 51,
     "metadata": {},
     "output_type": "execute_result"
    }
   ],
   "source": [
    "# Summarize missing value\n",
    "CustomerDemographic.isna().sum()"
   ]
  },
  {
   "cell_type": "code",
   "execution_count": 52,
   "id": "99986fb0-92dd-4ba2-90a2-b544369ef138",
   "metadata": {},
   "outputs": [
    {
     "data": {
      "text/plain": [
       "1763"
      ]
     },
     "execution_count": 52,
     "metadata": {},
     "output_type": "execute_result"
    }
   ],
   "source": [
    "CustomerDemographic.isna().sum().sum()"
   ]
  },
  {
   "cell_type": "markdown",
   "id": "688f9993-5aec-48aa-a4a0-e94852db299d",
   "metadata": {},
   "source": [
    "- There are missing values in 5 columns, therefore it is possible to drop or handle them.\n",
    "- Missing values in the `last_name` column can be filled with values in the `first_name` column."
   ]
  },
  {
   "cell_type": "code",
   "execution_count": 53,
   "id": "b424ab4f-c446-46d5-bebf-9389625bf9f4",
   "metadata": {},
   "outputs": [
    {
     "data": {
      "text/plain": [
       "0"
      ]
     },
     "execution_count": 53,
     "metadata": {},
     "output_type": "execute_result"
    }
   ],
   "source": [
    "# Detect duplicated value\n",
    "CustomerDemographic.duplicated().sum()"
   ]
  },
  {
   "cell_type": "markdown",
   "id": "2ab1fc81-0efd-49ae-b483-c1c964b8997b",
   "metadata": {},
   "source": [
    "- There are no duplicate values."
   ]
  },
  {
   "cell_type": "markdown",
   "id": "94f0e5a8-cecd-4f2e-b877-3836d5385857",
   "metadata": {},
   "source": [
    "### Explore the columns"
   ]
  },
  {
   "cell_type": "code",
   "execution_count": 54,
   "id": "1f34ecc4-0347-409c-9e02-6da8882ae20a",
   "metadata": {},
   "outputs": [
    {
     "data": {
      "text/plain": [
       "Index(['customer_id', 'first_name', 'last_name', 'gender',\n",
       "       'past_3_years_bike_related_purchases', 'DOB', 'job_title',\n",
       "       'job_industry_category', 'wealth_segment', 'deceased_indicator',\n",
       "       'default', 'owns_car', 'tenure'],\n",
       "      dtype='object')"
      ]
     },
     "execution_count": 54,
     "metadata": {},
     "output_type": "execute_result"
    }
   ],
   "source": [
    "CustomerDemographic.columns"
   ]
  },
  {
   "cell_type": "code",
   "execution_count": 55,
   "id": "0d70cb55-8195-4ce0-a1af-a0e0b9bc7e42",
   "metadata": {},
   "outputs": [
    {
     "data": {
      "text/plain": [
       "customer_id                            4000\n",
       "first_name                             3139\n",
       "last_name                              3725\n",
       "gender                                    6\n",
       "past_3_years_bike_related_purchases     100\n",
       "DOB                                    3448\n",
       "job_title                               195\n",
       "job_industry_category                     9\n",
       "wealth_segment                            3\n",
       "deceased_indicator                        2\n",
       "default                                  90\n",
       "owns_car                                  2\n",
       "tenure                                   22\n",
       "dtype: int64"
      ]
     },
     "execution_count": 55,
     "metadata": {},
     "output_type": "execute_result"
    }
   ],
   "source": [
    "# Number of unique classes\n",
    "CustomerDemographic.nunique()"
   ]
  },
  {
   "cell_type": "code",
   "execution_count": 56,
   "id": "58ce322a-cb3f-4e5f-af63-c3630b12bc27",
   "metadata": {},
   "outputs": [
    {
     "data": {
      "text/html": [
       "<div>\n",
       "<style scoped>\n",
       "    .dataframe tbody tr th:only-of-type {\n",
       "        vertical-align: middle;\n",
       "    }\n",
       "\n",
       "    .dataframe tbody tr th {\n",
       "        vertical-align: top;\n",
       "    }\n",
       "\n",
       "    .dataframe thead th {\n",
       "        text-align: right;\n",
       "    }\n",
       "</style>\n",
       "<table border=\"1\" class=\"dataframe\">\n",
       "  <thead>\n",
       "    <tr style=\"text-align: right;\">\n",
       "      <th></th>\n",
       "      <th>Feature Name</th>\n",
       "      <th>Unique Classes</th>\n",
       "    </tr>\n",
       "  </thead>\n",
       "  <tbody>\n",
       "    <tr>\n",
       "      <th>0</th>\n",
       "      <td>customer_id</td>\n",
       "      <td>[1, 2, 3, 4, 5, 6, 7, 8, 9, 10, 11, 12, 13, 14...</td>\n",
       "    </tr>\n",
       "    <tr>\n",
       "      <th>1</th>\n",
       "      <td>first_name</td>\n",
       "      <td>[Laraine, Eli, Arlin, Talbot, Sheila-kathryn, ...</td>\n",
       "    </tr>\n",
       "    <tr>\n",
       "      <th>2</th>\n",
       "      <td>last_name</td>\n",
       "      <td>[Medendorp, Bockman, Dearle, nan, Calton, Duck...</td>\n",
       "    </tr>\n",
       "    <tr>\n",
       "      <th>3</th>\n",
       "      <td>gender</td>\n",
       "      <td>[F, Male, Female, U, Femal, M]</td>\n",
       "    </tr>\n",
       "    <tr>\n",
       "      <th>4</th>\n",
       "      <td>past_3_years_bike_related_purchases</td>\n",
       "      <td>[93, 81, 61, 33, 56, 35, 6, 31, 97, 49, 99, 58...</td>\n",
       "    </tr>\n",
       "    <tr>\n",
       "      <th>5</th>\n",
       "      <td>DOB</td>\n",
       "      <td>[1953-10-12 00:00:00, 1980-12-16 00:00:00, 195...</td>\n",
       "    </tr>\n",
       "    <tr>\n",
       "      <th>6</th>\n",
       "      <td>job_title</td>\n",
       "      <td>[Executive Secretary, Administrative Officer, ...</td>\n",
       "    </tr>\n",
       "    <tr>\n",
       "      <th>7</th>\n",
       "      <td>job_industry_category</td>\n",
       "      <td>[Health, Financial Services, Property, IT, nan...</td>\n",
       "    </tr>\n",
       "    <tr>\n",
       "      <th>8</th>\n",
       "      <td>wealth_segment</td>\n",
       "      <td>[Mass Customer, Affluent Customer, High Net Wo...</td>\n",
       "    </tr>\n",
       "    <tr>\n",
       "      <th>9</th>\n",
       "      <td>deceased_indicator</td>\n",
       "      <td>[N, Y]</td>\n",
       "    </tr>\n",
       "    <tr>\n",
       "      <th>10</th>\n",
       "      <td>default</td>\n",
       "      <td>[\"', &lt;script&gt;alert('hi')&lt;/script&gt;, 2018-02-01 ...</td>\n",
       "    </tr>\n",
       "    <tr>\n",
       "      <th>11</th>\n",
       "      <td>owns_car</td>\n",
       "      <td>[Yes, No]</td>\n",
       "    </tr>\n",
       "    <tr>\n",
       "      <th>12</th>\n",
       "      <td>tenure</td>\n",
       "      <td>[11.0, 16.0, 15.0, 7.0, 8.0, 13.0, 20.0, 9.0, ...</td>\n",
       "    </tr>\n",
       "  </tbody>\n",
       "</table>\n",
       "</div>"
      ],
      "text/plain": [
       "                           Feature Name   \n",
       "0                           customer_id  \\\n",
       "1                            first_name   \n",
       "2                             last_name   \n",
       "3                                gender   \n",
       "4   past_3_years_bike_related_purchases   \n",
       "5                                   DOB   \n",
       "6                             job_title   \n",
       "7                 job_industry_category   \n",
       "8                        wealth_segment   \n",
       "9                    deceased_indicator   \n",
       "10                              default   \n",
       "11                             owns_car   \n",
       "12                               tenure   \n",
       "\n",
       "                                       Unique Classes  \n",
       "0   [1, 2, 3, 4, 5, 6, 7, 8, 9, 10, 11, 12, 13, 14...  \n",
       "1   [Laraine, Eli, Arlin, Talbot, Sheila-kathryn, ...  \n",
       "2   [Medendorp, Bockman, Dearle, nan, Calton, Duck...  \n",
       "3                      [F, Male, Female, U, Femal, M]  \n",
       "4   [93, 81, 61, 33, 56, 35, 6, 31, 97, 49, 99, 58...  \n",
       "5   [1953-10-12 00:00:00, 1980-12-16 00:00:00, 195...  \n",
       "6   [Executive Secretary, Administrative Officer, ...  \n",
       "7   [Health, Financial Services, Property, IT, nan...  \n",
       "8   [Mass Customer, Affluent Customer, High Net Wo...  \n",
       "9                                              [N, Y]  \n",
       "10  [\"', <script>alert('hi')</script>, 2018-02-01 ...  \n",
       "11                                          [Yes, No]  \n",
       "12  [11.0, 16.0, 15.0, 7.0, 8.0, 13.0, 20.0, 9.0, ...  "
      ]
     },
     "execution_count": 56,
     "metadata": {},
     "output_type": "execute_result"
    }
   ],
   "source": [
    "values = {'Feature Name'   : [],\n",
    "          'Unique Classes' : []}\n",
    "\n",
    "for col in CustomerDemographic.columns:\n",
    "    values['Feature Name'].append(col)\n",
    "    values['Unique Classes'].append(CustomerDemographic[col].unique())\n",
    "\n",
    "values = pd.DataFrame(values)\n",
    "values"
   ]
  },
  {
   "cell_type": "code",
   "execution_count": 57,
   "id": "b913691c-d237-4a51-a350-d797cf5054f6",
   "metadata": {},
   "outputs": [
    {
     "data": {
      "text/plain": [
       "gender\n",
       "Female    2037\n",
       "Male      1872\n",
       "U           88\n",
       "F            1\n",
       "Femal        1\n",
       "M            1\n",
       "Name: count, dtype: int64"
      ]
     },
     "execution_count": 57,
     "metadata": {},
     "output_type": "execute_result"
    }
   ],
   "source": [
    "CustomerDemographic['gender'].value_counts()"
   ]
  },
  {
   "cell_type": "code",
   "execution_count": 58,
   "id": "a8262fe8-3af4-4a89-a0c0-1d1bf8f79227",
   "metadata": {},
   "outputs": [
    {
     "data": {
      "text/plain": [
       "gender\n",
       "Female         2039\n",
       "Male           1873\n",
       "Unspecified      88\n",
       "Name: count, dtype: int64"
      ]
     },
     "execution_count": 58,
     "metadata": {},
     "output_type": "execute_result"
    }
   ],
   "source": [
    "# Renaming the categories\n",
    "CustomerDemographic['gender'] = CustomerDemographic['gender'].replace({'F'     : 'Female',\n",
    "                                                                       'Femal' : 'Female',\n",
    "                                                                       'M'     : 'Male',\n",
    "                                                                       'U'     : 'Unspecified'})\n",
    "CustomerDemographic['gender'].value_counts()"
   ]
  },
  {
   "cell_type": "code",
   "execution_count": 59,
   "id": "58c8057e-3706-408c-8cba-607e760fb6fd",
   "metadata": {},
   "outputs": [
    {
     "data": {
      "text/plain": [
       "default\n",
       "100                                       113\n",
       "1                                         112\n",
       "-1                                        111\n",
       "-100                                       99\n",
       "Ù¡Ù¢Ù£                                     53\n",
       "                                         ... \n",
       "testâ testâ«                               31\n",
       "/dev/null; touch /tmp/blns.fail ; echo     30\n",
       "âªâªtestâª                                 29\n",
       "ì¸ëë°í ë¥´                                 27\n",
       ",ãã»:*:ã»ãâ( â» Ï â» )ãã»:*:ã»ãâ           25\n",
       "Name: count, Length: 90, dtype: int64"
      ]
     },
     "execution_count": 59,
     "metadata": {},
     "output_type": "execute_result"
    }
   ],
   "source": [
    "CustomerDemographic['default'].value_counts()"
   ]
  },
  {
   "cell_type": "markdown",
   "id": "6c325680-cbe1-4202-93b4-0cdb9b115b1f",
   "metadata": {},
   "source": [
    "- Column `default` has inconsistent values, so it can be dropped."
   ]
  },
  {
   "cell_type": "code",
   "execution_count": 60,
   "id": "aceaf245-1427-4ba0-8cc2-471004322e57",
   "metadata": {
    "tags": []
   },
   "outputs": [],
   "source": [
    "CustomerDemographic = CustomerDemographic.drop('default', axis=1)"
   ]
  },
  {
   "cell_type": "markdown",
   "id": "59960053-45a9-48eb-96d4-8243da186b7f",
   "metadata": {},
   "source": [
    "### Descriptive Statistics"
   ]
  },
  {
   "cell_type": "code",
   "execution_count": 61,
   "id": "a68503c1-f346-45e8-9ee4-0a2d8f0fcd0d",
   "metadata": {
    "tags": []
   },
   "outputs": [],
   "source": [
    "# Define features\n",
    "num_cd = CustomerDemographic.select_dtypes(exclude = ['object'])\n",
    "cat_cd = CustomerDemographic.select_dtypes(include = ['object'])"
   ]
  },
  {
   "cell_type": "code",
   "execution_count": 62,
   "id": "edc5548a-d77c-497c-8b83-4046d76c5ae1",
   "metadata": {},
   "outputs": [
    {
     "data": {
      "text/plain": [
       "3"
      ]
     },
     "execution_count": 62,
     "metadata": {},
     "output_type": "execute_result"
    }
   ],
   "source": [
    "num_cd.shape[1]"
   ]
  },
  {
   "cell_type": "code",
   "execution_count": 63,
   "id": "11df2735-0260-4cfd-9d4c-70b49fc7556b",
   "metadata": {},
   "outputs": [
    {
     "data": {
      "text/plain": [
       "9"
      ]
     },
     "execution_count": 63,
     "metadata": {},
     "output_type": "execute_result"
    }
   ],
   "source": [
    "cat_cd.shape[1]"
   ]
  },
  {
   "cell_type": "markdown",
   "id": "aef05cd1-f6b2-4579-b356-2ab797139cf6",
   "metadata": {},
   "source": [
    "#### 1. Numerical Features"
   ]
  },
  {
   "cell_type": "code",
   "execution_count": 64,
   "id": "77f79c35-d3dc-4847-b849-aedea271d407",
   "metadata": {},
   "outputs": [
    {
     "data": {
      "text/html": [
       "<div>\n",
       "<style scoped>\n",
       "    .dataframe tbody tr th:only-of-type {\n",
       "        vertical-align: middle;\n",
       "    }\n",
       "\n",
       "    .dataframe tbody tr th {\n",
       "        vertical-align: top;\n",
       "    }\n",
       "\n",
       "    .dataframe thead th {\n",
       "        text-align: right;\n",
       "    }\n",
       "</style>\n",
       "<table border=\"1\" class=\"dataframe\">\n",
       "  <thead>\n",
       "    <tr style=\"text-align: right;\">\n",
       "      <th></th>\n",
       "      <th>count</th>\n",
       "      <th>mean</th>\n",
       "      <th>std</th>\n",
       "      <th>min</th>\n",
       "      <th>25%</th>\n",
       "      <th>50%</th>\n",
       "      <th>75%</th>\n",
       "      <th>max</th>\n",
       "    </tr>\n",
       "  </thead>\n",
       "  <tbody>\n",
       "    <tr>\n",
       "      <th>customer_id</th>\n",
       "      <td>4000.0</td>\n",
       "      <td>2000.500000</td>\n",
       "      <td>1154.844867</td>\n",
       "      <td>1.0</td>\n",
       "      <td>1000.75</td>\n",
       "      <td>2000.5</td>\n",
       "      <td>3000.25</td>\n",
       "      <td>4000.0</td>\n",
       "    </tr>\n",
       "    <tr>\n",
       "      <th>past_3_years_bike_related_purchases</th>\n",
       "      <td>4000.0</td>\n",
       "      <td>48.890000</td>\n",
       "      <td>28.715005</td>\n",
       "      <td>0.0</td>\n",
       "      <td>24.00</td>\n",
       "      <td>48.0</td>\n",
       "      <td>73.00</td>\n",
       "      <td>99.0</td>\n",
       "    </tr>\n",
       "    <tr>\n",
       "      <th>tenure</th>\n",
       "      <td>3913.0</td>\n",
       "      <td>10.657041</td>\n",
       "      <td>5.660146</td>\n",
       "      <td>1.0</td>\n",
       "      <td>6.00</td>\n",
       "      <td>11.0</td>\n",
       "      <td>15.00</td>\n",
       "      <td>22.0</td>\n",
       "    </tr>\n",
       "  </tbody>\n",
       "</table>\n",
       "</div>"
      ],
      "text/plain": [
       "                                      count         mean          std  min   \n",
       "customer_id                          4000.0  2000.500000  1154.844867  1.0  \\\n",
       "past_3_years_bike_related_purchases  4000.0    48.890000    28.715005  0.0   \n",
       "tenure                               3913.0    10.657041     5.660146  1.0   \n",
       "\n",
       "                                         25%     50%      75%     max  \n",
       "customer_id                          1000.75  2000.5  3000.25  4000.0  \n",
       "past_3_years_bike_related_purchases    24.00    48.0    73.00    99.0  \n",
       "tenure                                  6.00    11.0    15.00    22.0  "
      ]
     },
     "execution_count": 64,
     "metadata": {},
     "output_type": "execute_result"
    }
   ],
   "source": [
    "# Summary statistics for numerical features\n",
    "num_cd.describe().T"
   ]
  },
  {
   "cell_type": "markdown",
   "id": "7ac9a633-48ef-44f4-a07c-b1fb00771ee8",
   "metadata": {},
   "source": [
    "#### 2. Categorical Features"
   ]
  },
  {
   "cell_type": "code",
   "execution_count": 65,
   "id": "1efd9bc8-99df-41fd-943f-4d126ccf8a42",
   "metadata": {},
   "outputs": [
    {
     "data": {
      "text/html": [
       "<div>\n",
       "<style scoped>\n",
       "    .dataframe tbody tr th:only-of-type {\n",
       "        vertical-align: middle;\n",
       "    }\n",
       "\n",
       "    .dataframe tbody tr th {\n",
       "        vertical-align: top;\n",
       "    }\n",
       "\n",
       "    .dataframe thead th {\n",
       "        text-align: right;\n",
       "    }\n",
       "</style>\n",
       "<table border=\"1\" class=\"dataframe\">\n",
       "  <thead>\n",
       "    <tr style=\"text-align: right;\">\n",
       "      <th></th>\n",
       "      <th>count</th>\n",
       "      <th>unique</th>\n",
       "      <th>top</th>\n",
       "      <th>freq</th>\n",
       "    </tr>\n",
       "  </thead>\n",
       "  <tbody>\n",
       "    <tr>\n",
       "      <th>first_name</th>\n",
       "      <td>4000</td>\n",
       "      <td>3139</td>\n",
       "      <td>Max</td>\n",
       "      <td>5</td>\n",
       "    </tr>\n",
       "    <tr>\n",
       "      <th>last_name</th>\n",
       "      <td>3875</td>\n",
       "      <td>3725</td>\n",
       "      <td>Pristnor</td>\n",
       "      <td>3</td>\n",
       "    </tr>\n",
       "    <tr>\n",
       "      <th>gender</th>\n",
       "      <td>4000</td>\n",
       "      <td>3</td>\n",
       "      <td>Female</td>\n",
       "      <td>2039</td>\n",
       "    </tr>\n",
       "    <tr>\n",
       "      <th>DOB</th>\n",
       "      <td>3913</td>\n",
       "      <td>3448</td>\n",
       "      <td>1978-01-30 00:00:00</td>\n",
       "      <td>7</td>\n",
       "    </tr>\n",
       "    <tr>\n",
       "      <th>job_title</th>\n",
       "      <td>3494</td>\n",
       "      <td>195</td>\n",
       "      <td>Business Systems Development Analyst</td>\n",
       "      <td>45</td>\n",
       "    </tr>\n",
       "    <tr>\n",
       "      <th>job_industry_category</th>\n",
       "      <td>3344</td>\n",
       "      <td>9</td>\n",
       "      <td>Manufacturing</td>\n",
       "      <td>799</td>\n",
       "    </tr>\n",
       "    <tr>\n",
       "      <th>wealth_segment</th>\n",
       "      <td>4000</td>\n",
       "      <td>3</td>\n",
       "      <td>Mass Customer</td>\n",
       "      <td>2000</td>\n",
       "    </tr>\n",
       "    <tr>\n",
       "      <th>deceased_indicator</th>\n",
       "      <td>4000</td>\n",
       "      <td>2</td>\n",
       "      <td>N</td>\n",
       "      <td>3998</td>\n",
       "    </tr>\n",
       "    <tr>\n",
       "      <th>owns_car</th>\n",
       "      <td>4000</td>\n",
       "      <td>2</td>\n",
       "      <td>Yes</td>\n",
       "      <td>2024</td>\n",
       "    </tr>\n",
       "  </tbody>\n",
       "</table>\n",
       "</div>"
      ],
      "text/plain": [
       "                      count unique                                   top  freq\n",
       "first_name             4000   3139                                   Max     5\n",
       "last_name              3875   3725                              Pristnor     3\n",
       "gender                 4000      3                                Female  2039\n",
       "DOB                    3913   3448                   1978-01-30 00:00:00     7\n",
       "job_title              3494    195  Business Systems Development Analyst    45\n",
       "job_industry_category  3344      9                         Manufacturing   799\n",
       "wealth_segment         4000      3                         Mass Customer  2000\n",
       "deceased_indicator     4000      2                                     N  3998\n",
       "owns_car               4000      2                                   Yes  2024"
      ]
     },
     "execution_count": 65,
     "metadata": {},
     "output_type": "execute_result"
    }
   ],
   "source": [
    "# Summary statistics for categorical features\n",
    "cat_cd.describe().T"
   ]
  },
  {
   "cell_type": "markdown",
   "id": "3e519bca-efee-46f7-9583-b176862e0b11",
   "metadata": {},
   "source": [
    "## 4. Explore CustomerAddress Data"
   ]
  },
  {
   "cell_type": "code",
   "execution_count": 66,
   "id": "473ec699-e2ab-46dc-889b-0fae3167eee4",
   "metadata": {},
   "outputs": [
    {
     "data": {
      "text/plain": [
       "(3999, 6)"
      ]
     },
     "execution_count": 66,
     "metadata": {},
     "output_type": "execute_result"
    }
   ],
   "source": [
    "# Dimensions of the DataFrame\n",
    "CustomerAddress.shape"
   ]
  },
  {
   "cell_type": "code",
   "execution_count": 67,
   "id": "2021d62e-0aa5-49b8-a05e-4bbf0e07ff6a",
   "metadata": {},
   "outputs": [
    {
     "name": "stdout",
     "output_type": "stream",
     "text": [
      "Total rows: 3999\n",
      "Total cols: 6\n"
     ]
    }
   ],
   "source": [
    "print('Total rows: {}'.format(CustomerAddress.shape[0]))\n",
    "print('Total cols: {}'.format(CustomerAddress.shape[1]))"
   ]
  },
  {
   "cell_type": "code",
   "execution_count": 68,
   "id": "be77c65c-50d1-49bf-86ba-42f5aba73ec8",
   "metadata": {},
   "outputs": [
    {
     "name": "stdout",
     "output_type": "stream",
     "text": [
      "<class 'pandas.core.frame.DataFrame'>\n",
      "RangeIndex: 3999 entries, 0 to 3998\n",
      "Data columns (total 6 columns):\n",
      " #   Column              Non-Null Count  Dtype \n",
      "---  ------              --------------  ----- \n",
      " 0   customer_id         3999 non-null   int64 \n",
      " 1   address             3999 non-null   object\n",
      " 2   postcode            3999 non-null   int64 \n",
      " 3   state               3999 non-null   object\n",
      " 4   country             3999 non-null   object\n",
      " 5   property_valuation  3999 non-null   int64 \n",
      "dtypes: int64(3), object(3)\n",
      "memory usage: 187.6+ KB\n"
     ]
    }
   ],
   "source": [
    "# Data types of the columns\n",
    "CustomerAddress.info()"
   ]
  },
  {
   "cell_type": "code",
   "execution_count": 69,
   "id": "8ea07a0c-15ad-46a3-9f0b-c9d6915636f5",
   "metadata": {},
   "outputs": [
    {
     "data": {
      "text/html": [
       "<div>\n",
       "<style scoped>\n",
       "    .dataframe tbody tr th:only-of-type {\n",
       "        vertical-align: middle;\n",
       "    }\n",
       "\n",
       "    .dataframe tbody tr th {\n",
       "        vertical-align: top;\n",
       "    }\n",
       "\n",
       "    .dataframe thead th {\n",
       "        text-align: right;\n",
       "    }\n",
       "</style>\n",
       "<table border=\"1\" class=\"dataframe\">\n",
       "  <thead>\n",
       "    <tr style=\"text-align: right;\">\n",
       "      <th></th>\n",
       "      <th>customer_id</th>\n",
       "      <th>address</th>\n",
       "      <th>postcode</th>\n",
       "      <th>state</th>\n",
       "      <th>country</th>\n",
       "      <th>property_valuation</th>\n",
       "    </tr>\n",
       "  </thead>\n",
       "  <tbody>\n",
       "    <tr>\n",
       "      <th>3218</th>\n",
       "      <td>3223</td>\n",
       "      <td>93723 Old Gate Hill</td>\n",
       "      <td>2021</td>\n",
       "      <td>NSW</td>\n",
       "      <td>Australia</td>\n",
       "      <td>9</td>\n",
       "    </tr>\n",
       "    <tr>\n",
       "      <th>2007</th>\n",
       "      <td>2012</td>\n",
       "      <td>33 Del Mar Junction</td>\n",
       "      <td>2264</td>\n",
       "      <td>NSW</td>\n",
       "      <td>Australia</td>\n",
       "      <td>8</td>\n",
       "    </tr>\n",
       "    <tr>\n",
       "      <th>3638</th>\n",
       "      <td>3643</td>\n",
       "      <td>686 Scoville Drive</td>\n",
       "      <td>3012</td>\n",
       "      <td>VIC</td>\n",
       "      <td>Australia</td>\n",
       "      <td>5</td>\n",
       "    </tr>\n",
       "    <tr>\n",
       "      <th>2165</th>\n",
       "      <td>2170</td>\n",
       "      <td>5 Muir Circle</td>\n",
       "      <td>2030</td>\n",
       "      <td>NSW</td>\n",
       "      <td>Australia</td>\n",
       "      <td>12</td>\n",
       "    </tr>\n",
       "    <tr>\n",
       "      <th>2300</th>\n",
       "      <td>2305</td>\n",
       "      <td>84 Main Lane</td>\n",
       "      <td>3149</td>\n",
       "      <td>VIC</td>\n",
       "      <td>Australia</td>\n",
       "      <td>10</td>\n",
       "    </tr>\n",
       "  </tbody>\n",
       "</table>\n",
       "</div>"
      ],
      "text/plain": [
       "      customer_id              address  postcode state    country   \n",
       "3218         3223  93723 Old Gate Hill      2021   NSW  Australia  \\\n",
       "2007         2012  33 Del Mar Junction      2264   NSW  Australia   \n",
       "3638         3643   686 Scoville Drive      3012   VIC  Australia   \n",
       "2165         2170        5 Muir Circle      2030   NSW  Australia   \n",
       "2300         2305         84 Main Lane      3149   VIC  Australia   \n",
       "\n",
       "      property_valuation  \n",
       "3218                   9  \n",
       "2007                   8  \n",
       "3638                   5  \n",
       "2165                  12  \n",
       "2300                  10  "
      ]
     },
     "execution_count": 69,
     "metadata": {},
     "output_type": "execute_result"
    }
   ],
   "source": [
    "# Display a few rows\n",
    "CustomerAddress.sample(n=5, random_state=50)"
   ]
  },
  {
   "cell_type": "markdown",
   "id": "35448acb-7c2c-4bdf-a449-44c8526385b2",
   "metadata": {},
   "source": [
    "- The `postcode` column is categorical data, rather than numerical data, so it should be converted to string data type."
   ]
  },
  {
   "cell_type": "code",
   "execution_count": 70,
   "id": "34cf09a1-de01-401e-a530-bac49491e0fc",
   "metadata": {},
   "outputs": [
    {
     "data": {
      "text/plain": [
       "customer_id           False\n",
       "address               False\n",
       "postcode              False\n",
       "state                 False\n",
       "country               False\n",
       "property_valuation    False\n",
       "dtype: bool"
      ]
     },
     "execution_count": 70,
     "metadata": {},
     "output_type": "execute_result"
    }
   ],
   "source": [
    "# Detect missing value\n",
    "CustomerAddress.isna().any()"
   ]
  },
  {
   "cell_type": "code",
   "execution_count": 71,
   "id": "a4cfd0b9-2cbe-4298-90ec-afb1a5592bd5",
   "metadata": {},
   "outputs": [
    {
     "data": {
      "text/plain": [
       "customer_id           0\n",
       "address               0\n",
       "postcode              0\n",
       "state                 0\n",
       "country               0\n",
       "property_valuation    0\n",
       "dtype: int64"
      ]
     },
     "execution_count": 71,
     "metadata": {},
     "output_type": "execute_result"
    }
   ],
   "source": [
    "# Summarize missing value\n",
    "CustomerAddress.isna().sum()"
   ]
  },
  {
   "cell_type": "code",
   "execution_count": 72,
   "id": "c056f84b-225d-4d12-9c55-c6bb0c47b9d3",
   "metadata": {},
   "outputs": [
    {
     "data": {
      "text/plain": [
       "0"
      ]
     },
     "execution_count": 72,
     "metadata": {},
     "output_type": "execute_result"
    }
   ],
   "source": [
    "CustomerAddress.isna().sum().sum()"
   ]
  },
  {
   "cell_type": "markdown",
   "id": "19cbfa46-40a0-4ea4-9a71-09ba0df792bc",
   "metadata": {},
   "source": [
    "- There are no missing values."
   ]
  },
  {
   "cell_type": "code",
   "execution_count": 73,
   "id": "d3017436-6198-4cae-9d07-410b66ae3cf3",
   "metadata": {},
   "outputs": [
    {
     "data": {
      "text/plain": [
       "0"
      ]
     },
     "execution_count": 73,
     "metadata": {},
     "output_type": "execute_result"
    }
   ],
   "source": [
    "# Detect duplicated value\n",
    "CustomerAddress.duplicated().sum()"
   ]
  },
  {
   "cell_type": "markdown",
   "id": "a740e0e8-7c78-4ba5-9a9d-7ae19b5da314",
   "metadata": {},
   "source": [
    "- There are no duplicate values."
   ]
  },
  {
   "cell_type": "markdown",
   "id": "7e9dd0eb-a97a-4ee4-ad8a-7ce6eb154dc7",
   "metadata": {},
   "source": [
    "### Explore the columns"
   ]
  },
  {
   "cell_type": "code",
   "execution_count": 74,
   "id": "57d703ce-7691-4e81-93ab-c11e0566ef81",
   "metadata": {},
   "outputs": [
    {
     "data": {
      "text/plain": [
       "Index(['customer_id', 'address', 'postcode', 'state', 'country',\n",
       "       'property_valuation'],\n",
       "      dtype='object')"
      ]
     },
     "execution_count": 74,
     "metadata": {},
     "output_type": "execute_result"
    }
   ],
   "source": [
    "CustomerAddress.columns"
   ]
  },
  {
   "cell_type": "code",
   "execution_count": 75,
   "id": "f61a76fa-bf39-41a7-b2b2-4168df57ba29",
   "metadata": {},
   "outputs": [
    {
     "data": {
      "text/plain": [
       "customer_id           3999\n",
       "address               3996\n",
       "postcode               873\n",
       "state                    5\n",
       "country                  1\n",
       "property_valuation      12\n",
       "dtype: int64"
      ]
     },
     "execution_count": 75,
     "metadata": {},
     "output_type": "execute_result"
    }
   ],
   "source": [
    "# Number of unique classes\n",
    "CustomerAddress.nunique()"
   ]
  },
  {
   "cell_type": "code",
   "execution_count": 76,
   "id": "9011bbe2-46d5-4248-bc29-13baf3a38522",
   "metadata": {},
   "outputs": [
    {
     "data": {
      "text/html": [
       "<div>\n",
       "<style scoped>\n",
       "    .dataframe tbody tr th:only-of-type {\n",
       "        vertical-align: middle;\n",
       "    }\n",
       "\n",
       "    .dataframe tbody tr th {\n",
       "        vertical-align: top;\n",
       "    }\n",
       "\n",
       "    .dataframe thead th {\n",
       "        text-align: right;\n",
       "    }\n",
       "</style>\n",
       "<table border=\"1\" class=\"dataframe\">\n",
       "  <thead>\n",
       "    <tr style=\"text-align: right;\">\n",
       "      <th></th>\n",
       "      <th>Feature Name</th>\n",
       "      <th>Unique Classes</th>\n",
       "    </tr>\n",
       "  </thead>\n",
       "  <tbody>\n",
       "    <tr>\n",
       "      <th>0</th>\n",
       "      <td>customer_id</td>\n",
       "      <td>[1, 2, 4, 5, 6, 7, 8, 9, 11, 12, 13, 14, 15, 1...</td>\n",
       "    </tr>\n",
       "    <tr>\n",
       "      <th>1</th>\n",
       "      <td>address</td>\n",
       "      <td>[060 Morning Avenue, 6 Meadow Vale Court, 0 Ho...</td>\n",
       "    </tr>\n",
       "    <tr>\n",
       "      <th>2</th>\n",
       "      <td>postcode</td>\n",
       "      <td>[2016, 2153, 4211, 2448, 3216, 2210, 2650, 202...</td>\n",
       "    </tr>\n",
       "    <tr>\n",
       "      <th>3</th>\n",
       "      <td>state</td>\n",
       "      <td>[New South Wales, QLD, VIC, NSW, Victoria]</td>\n",
       "    </tr>\n",
       "    <tr>\n",
       "      <th>4</th>\n",
       "      <td>country</td>\n",
       "      <td>[Australia]</td>\n",
       "    </tr>\n",
       "    <tr>\n",
       "      <th>5</th>\n",
       "      <td>property_valuation</td>\n",
       "      <td>[10, 9, 4, 12, 8, 6, 7, 3, 5, 11, 1, 2]</td>\n",
       "    </tr>\n",
       "  </tbody>\n",
       "</table>\n",
       "</div>"
      ],
      "text/plain": [
       "         Feature Name                                     Unique Classes\n",
       "0         customer_id  [1, 2, 4, 5, 6, 7, 8, 9, 11, 12, 13, 14, 15, 1...\n",
       "1             address  [060 Morning Avenue, 6 Meadow Vale Court, 0 Ho...\n",
       "2            postcode  [2016, 2153, 4211, 2448, 3216, 2210, 2650, 202...\n",
       "3               state         [New South Wales, QLD, VIC, NSW, Victoria]\n",
       "4             country                                        [Australia]\n",
       "5  property_valuation            [10, 9, 4, 12, 8, 6, 7, 3, 5, 11, 1, 2]"
      ]
     },
     "execution_count": 76,
     "metadata": {},
     "output_type": "execute_result"
    }
   ],
   "source": [
    "values = {'Feature Name'   : [],\n",
    "          'Unique Classes' : []}\n",
    "\n",
    "for col in CustomerAddress.columns:\n",
    "    values['Feature Name'].append(col)\n",
    "    values['Unique Classes'].append(CustomerAddress[col].unique())\n",
    "\n",
    "values = pd.DataFrame(values)\n",
    "values"
   ]
  },
  {
   "cell_type": "code",
   "execution_count": 77,
   "id": "44abc915-70d6-4ce4-ba14-0cdac7e2edcd",
   "metadata": {},
   "outputs": [
    {
     "data": {
      "text/plain": [
       "state\n",
       "NSW                2054\n",
       "VIC                 939\n",
       "QLD                 838\n",
       "New South Wales      86\n",
       "Victoria             82\n",
       "Name: count, dtype: int64"
      ]
     },
     "execution_count": 77,
     "metadata": {},
     "output_type": "execute_result"
    }
   ],
   "source": [
    "CustomerAddress['state'].value_counts()"
   ]
  },
  {
   "cell_type": "code",
   "execution_count": 78,
   "id": "64784088-459f-4665-9f1e-91bf2f84e737",
   "metadata": {},
   "outputs": [
    {
     "data": {
      "text/plain": [
       "state\n",
       "NSW    2140\n",
       "VIC    1021\n",
       "QLD     838\n",
       "Name: count, dtype: int64"
      ]
     },
     "execution_count": 78,
     "metadata": {},
     "output_type": "execute_result"
    }
   ],
   "source": [
    "CustomerAddress['state'] = CustomerAddress['state'].replace({'New South Wales' : 'NSW',\n",
    "                                                             'Victoria'        : 'VIC'})\n",
    "CustomerAddress['state'].value_counts()"
   ]
  },
  {
   "cell_type": "code",
   "execution_count": 79,
   "id": "2d517d4f-3a03-4c4b-bb5f-781a5debe1a6",
   "metadata": {},
   "outputs": [
    {
     "data": {
      "text/plain": [
       "country\n",
       "Australia    3999\n",
       "Name: count, dtype: int64"
      ]
     },
     "execution_count": 79,
     "metadata": {},
     "output_type": "execute_result"
    }
   ],
   "source": [
    "CustomerAddress['country'].value_counts()"
   ]
  },
  {
   "cell_type": "markdown",
   "id": "6674567b-78f4-49f0-978e-e15cdbdc06b6",
   "metadata": {},
   "source": [
    "- It seems that all columns contain accurate and consistent data."
   ]
  },
  {
   "cell_type": "markdown",
   "id": "d78cee3e-7455-4682-a52c-8a18b635518d",
   "metadata": {},
   "source": [
    "### Descriptive Statistics"
   ]
  },
  {
   "cell_type": "code",
   "execution_count": 80,
   "id": "44c5d15a-acd5-4100-ab18-2d751b17a1bd",
   "metadata": {
    "tags": []
   },
   "outputs": [],
   "source": [
    "# Define features\n",
    "num_ca = CustomerAddress.select_dtypes(exclude = ['object'])\n",
    "cat_ca = CustomerAddress.select_dtypes(include = ['object'])"
   ]
  },
  {
   "cell_type": "code",
   "execution_count": 81,
   "id": "831bb92d-d880-456a-b989-215bf92c5b9a",
   "metadata": {},
   "outputs": [
    {
     "data": {
      "text/plain": [
       "3"
      ]
     },
     "execution_count": 81,
     "metadata": {},
     "output_type": "execute_result"
    }
   ],
   "source": [
    "num_ca.shape[1]"
   ]
  },
  {
   "cell_type": "code",
   "execution_count": 82,
   "id": "75bf1c2c-7d18-4bfe-ad5d-ecc18e3bd75b",
   "metadata": {},
   "outputs": [
    {
     "data": {
      "text/plain": [
       "3"
      ]
     },
     "execution_count": 82,
     "metadata": {},
     "output_type": "execute_result"
    }
   ],
   "source": [
    "cat_ca.shape[1]"
   ]
  },
  {
   "cell_type": "markdown",
   "id": "7c3cfea3-4391-44a0-88e6-21f3a34714f4",
   "metadata": {},
   "source": [
    "#### 1. Numerical Features"
   ]
  },
  {
   "cell_type": "code",
   "execution_count": 83,
   "id": "be4196f1-44e3-42f9-905e-27bd562df103",
   "metadata": {},
   "outputs": [
    {
     "data": {
      "text/html": [
       "<div>\n",
       "<style scoped>\n",
       "    .dataframe tbody tr th:only-of-type {\n",
       "        vertical-align: middle;\n",
       "    }\n",
       "\n",
       "    .dataframe tbody tr th {\n",
       "        vertical-align: top;\n",
       "    }\n",
       "\n",
       "    .dataframe thead th {\n",
       "        text-align: right;\n",
       "    }\n",
       "</style>\n",
       "<table border=\"1\" class=\"dataframe\">\n",
       "  <thead>\n",
       "    <tr style=\"text-align: right;\">\n",
       "      <th></th>\n",
       "      <th>count</th>\n",
       "      <th>mean</th>\n",
       "      <th>std</th>\n",
       "      <th>min</th>\n",
       "      <th>25%</th>\n",
       "      <th>50%</th>\n",
       "      <th>75%</th>\n",
       "      <th>max</th>\n",
       "    </tr>\n",
       "  </thead>\n",
       "  <tbody>\n",
       "    <tr>\n",
       "      <th>customer_id</th>\n",
       "      <td>3999.0</td>\n",
       "      <td>2003.987997</td>\n",
       "      <td>1154.576912</td>\n",
       "      <td>1.0</td>\n",
       "      <td>1004.5</td>\n",
       "      <td>2004.0</td>\n",
       "      <td>3003.5</td>\n",
       "      <td>4003.0</td>\n",
       "    </tr>\n",
       "    <tr>\n",
       "      <th>postcode</th>\n",
       "      <td>3999.0</td>\n",
       "      <td>2985.755939</td>\n",
       "      <td>844.878364</td>\n",
       "      <td>2000.0</td>\n",
       "      <td>2200.0</td>\n",
       "      <td>2768.0</td>\n",
       "      <td>3750.0</td>\n",
       "      <td>4883.0</td>\n",
       "    </tr>\n",
       "    <tr>\n",
       "      <th>property_valuation</th>\n",
       "      <td>3999.0</td>\n",
       "      <td>7.514379</td>\n",
       "      <td>2.824663</td>\n",
       "      <td>1.0</td>\n",
       "      <td>6.0</td>\n",
       "      <td>8.0</td>\n",
       "      <td>10.0</td>\n",
       "      <td>12.0</td>\n",
       "    </tr>\n",
       "  </tbody>\n",
       "</table>\n",
       "</div>"
      ],
      "text/plain": [
       "                     count         mean          std     min     25%     50%   \n",
       "customer_id         3999.0  2003.987997  1154.576912     1.0  1004.5  2004.0  \\\n",
       "postcode            3999.0  2985.755939   844.878364  2000.0  2200.0  2768.0   \n",
       "property_valuation  3999.0     7.514379     2.824663     1.0     6.0     8.0   \n",
       "\n",
       "                       75%     max  \n",
       "customer_id         3003.5  4003.0  \n",
       "postcode            3750.0  4883.0  \n",
       "property_valuation    10.0    12.0  "
      ]
     },
     "execution_count": 83,
     "metadata": {},
     "output_type": "execute_result"
    }
   ],
   "source": [
    "# Summary statistics for numerical features\n",
    "num_ca.describe().T"
   ]
  },
  {
   "cell_type": "markdown",
   "id": "703f7a42-d36c-4a25-b2c6-28f12077ec55",
   "metadata": {},
   "source": [
    "#### 2. Categorical Features"
   ]
  },
  {
   "cell_type": "code",
   "execution_count": 84,
   "id": "fbda13fe-e158-4978-b5c5-bb823ba97fae",
   "metadata": {},
   "outputs": [
    {
     "data": {
      "text/html": [
       "<div>\n",
       "<style scoped>\n",
       "    .dataframe tbody tr th:only-of-type {\n",
       "        vertical-align: middle;\n",
       "    }\n",
       "\n",
       "    .dataframe tbody tr th {\n",
       "        vertical-align: top;\n",
       "    }\n",
       "\n",
       "    .dataframe thead th {\n",
       "        text-align: right;\n",
       "    }\n",
       "</style>\n",
       "<table border=\"1\" class=\"dataframe\">\n",
       "  <thead>\n",
       "    <tr style=\"text-align: right;\">\n",
       "      <th></th>\n",
       "      <th>count</th>\n",
       "      <th>unique</th>\n",
       "      <th>top</th>\n",
       "      <th>freq</th>\n",
       "    </tr>\n",
       "  </thead>\n",
       "  <tbody>\n",
       "    <tr>\n",
       "      <th>address</th>\n",
       "      <td>3999</td>\n",
       "      <td>3996</td>\n",
       "      <td>3 Mariners Cove Terrace</td>\n",
       "      <td>2</td>\n",
       "    </tr>\n",
       "    <tr>\n",
       "      <th>state</th>\n",
       "      <td>3999</td>\n",
       "      <td>3</td>\n",
       "      <td>NSW</td>\n",
       "      <td>2140</td>\n",
       "    </tr>\n",
       "    <tr>\n",
       "      <th>country</th>\n",
       "      <td>3999</td>\n",
       "      <td>1</td>\n",
       "      <td>Australia</td>\n",
       "      <td>3999</td>\n",
       "    </tr>\n",
       "  </tbody>\n",
       "</table>\n",
       "</div>"
      ],
      "text/plain": [
       "        count unique                      top  freq\n",
       "address  3999   3996  3 Mariners Cove Terrace     2\n",
       "state    3999      3                      NSW  2140\n",
       "country  3999      1                Australia  3999"
      ]
     },
     "execution_count": 84,
     "metadata": {},
     "output_type": "execute_result"
    }
   ],
   "source": [
    "# Summary statistics for categorical features\n",
    "cat_ca.describe().T"
   ]
  }
 ],
 "metadata": {
  "kernelspec": {
   "display_name": "Python 3 (ipykernel)",
   "language": "python",
   "name": "python3"
  },
  "language_info": {
   "codemirror_mode": {
    "name": "ipython",
    "version": 3
   },
   "file_extension": ".py",
   "mimetype": "text/x-python",
   "name": "python",
   "nbconvert_exporter": "python",
   "pygments_lexer": "ipython3",
   "version": "3.10.9"
  }
 },
 "nbformat": 4,
 "nbformat_minor": 5
}
